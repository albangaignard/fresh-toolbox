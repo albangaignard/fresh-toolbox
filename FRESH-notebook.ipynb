{
 "cells": [
  {
   "cell_type": "markdown",
   "metadata": {},
   "source": [
    "# Introduction\n",
    "**This notebook aims at demonstrating how to leverage workflow provenance (information on data processing chains) with a knowledge graph to produce human and machine -oriented data summaries.** We propose to leverage domain-specific annotation ([EDAM ontology](http://edamontology.org/)) from the bioinformatics tools registry [Bio.Tools](http://bio.tools) to automatically annotate workflow processed data in the form of data summaries. \n",
    "\n",
    "### Contacts\n",
    "  - Alban Gaignard: alban.gaignard@univ-nantes.fr\n",
    "  - Hala Skaf-Molli: hala.skaf@univ-nantes.fr\n",
    "  - Khalid Belhajjame: kbelhajj@googlemail.com\n",
    "\n",
    "### Approach\n",
    "![alt text](approach.pdf \"Approach\")\n",
    "Here are the main steps of this demonstration : \n",
    "  1. Knowledge graph loading (With assume that a provenance is already available)\n",
    "  1. Machine-oriented provenance mining queries\n",
    "  1. Human-oriented provenance mining queries\n",
    "  \n",
    "### Software dependencies \n",
    "  - [RdfLib](https://rdflib.readthedocs.io/en/stable/) for RDF data management and SPARQL querying\n",
    "  - [NetworkX](https://networkx.github.io/documentation/stable/) for graph visualization"
   ]
  },
  {
   "cell_type": "code",
   "execution_count": 7,
   "metadata": {},
   "outputs": [],
   "source": [
    "from IPython.display import display, Markdown, Latex\n",
    "from string import Template\n",
    "import datetime\n",
    "import requests\n",
    "import json\n",
    "import io\n",
    "\n",
    "import networkx as nx\n",
    "from nxpd import draw\n",
    "\n",
    "from rdflib import Graph, RDF, RDFS, Namespace\n",
    "\n",
    "def serialize():\n",
    "    print(g.serialize(format='turtle'))\n",
    "\n",
    "def save(filename):\n",
    "    with open(filename, 'w') as f:\n",
    "        g.serialize(f, format='turtle')\n",
    "        \n",
    "def load(filename):\n",
    "    with io.open(filename,'r',encoding='utf8') as f:\n",
    "        g.load(f, format='turtle')  \n",
    "\n",
    "g = Graph()\n",
    "g.bind('prov',Namespace('http://www.w3.org/ns/prov#'))\n",
    "g.bind('p-plan',Namespace('http://purl.org/net/p-plan#'))\n",
    "g.bind('mp',Namespace('http://purl.org/mp/'))"
   ]
  },
  {
   "cell_type": "markdown",
   "metadata": {},
   "source": [
    "# 1. Caracteristics of the captured provenance graph"
   ]
  },
  {
   "cell_type": "markdown",
   "metadata": {},
   "source": [
    "### Size of the provenance graph"
   ]
  },
  {
   "cell_type": "code",
   "execution_count": 15,
   "metadata": {},
   "outputs": [
    {
     "name": "stdout",
     "output_type": "stream",
     "text": [
      "555 triples in the provenance graph\n"
     ]
    }
   ],
   "source": [
    "prov_graph = Graph()\n",
    "prov_graph.bind('prov',Namespace('http://www.w3.org/ns/prov#'))\n",
    "with io.open('provenance.ttl','r',encoding='utf8') as f:\n",
    "    prov_graph.load(f, format='turtle')\n",
    "print(str(len(prov_graph)) + \" triples in the provenance graph\")"
   ]
  },
  {
   "cell_type": "markdown",
   "metadata": {},
   "source": [
    "### Distribution of PROV classes "
   ]
  },
  {
   "cell_type": "code",
   "execution_count": 16,
   "metadata": {},
   "outputs": [
    {
     "data": {
      "text/markdown": [
       "\n",
       "| Class name | Number of instances |\n",
       "|------|------|\n",
       "|http://www.w3.org/ns/prov#Entity | 40 | \n",
       "|http://www.w3.org/ns/prov#Activity | 26 | \n",
       "|http://www.w3.org/ns/prov#Person | 1 | \n",
       "|http://www.w3.org/ns/prov#Agent | 1 | \n",
       "|http://www.w3.org/ns/prov#Bundle | 1 | \n"
      ],
      "text/plain": [
       "<IPython.core.display.Markdown object>"
      ]
     },
     "metadata": {},
     "output_type": "display_data"
    }
   ],
   "source": [
    "q_classes = \"SELECT  ?class (COUNT(?s) AS ?count ) { ?s a ?class } GROUP BY ?class ORDER BY DESC(?count)\"\n",
    "results = prov_graph.query(q_classes)\n",
    "md = \"\"\"\n",
    "| Class name | Number of instances |\n",
    "|------|------|\n",
    "\"\"\" \n",
    "for r in results :\n",
    "    md = md + \"|\" + str(r['class']) + \" | \" + str(r['count']) + \" | \" + \"\\n\"\n",
    "display(Markdown(md))"
   ]
  },
  {
   "cell_type": "markdown",
   "metadata": {},
   "source": [
    "### Distribution of PROV predicates"
   ]
  },
  {
   "cell_type": "code",
   "execution_count": 17,
   "metadata": {},
   "outputs": [
    {
     "data": {
      "text/markdown": [
       "\n",
       "| Property name | Number of predicates |\n",
       "|------|------|\n",
       "|http://www.w3.org/ns/prov#wasDerivedFrom | 167 | \n",
       "|http://www.w3.org/ns/prov#used | 100 | \n",
       "|http://www.w3.org/1999/02/22-rdf-syntax-ns#type | 69 | \n",
       "|http://www.w3.org/ns/prov#wasAssociatedWith | 65 | \n",
       "|http://www.w3.org/2000/01/rdf-schema#label | 39 | \n",
       "|http://www.w3.org/ns/prov#wasGeneratedBy | 39 | \n",
       "|http://www.w3.org/ns/prov#endedAtTime | 26 | \n",
       "|http://www.w3.org/ns/prov#startedAtTime | 26 | \n",
       "|http://www.w3.org/2000/01/rdf-schema#comment | 22 | \n",
       "|http://www.w3.org/ns/prov#wasAttributedTo | 1 | \n",
       "|http://www.w3.org/ns/prov#generatedAtTime | 1 | \n"
      ],
      "text/plain": [
       "<IPython.core.display.Markdown object>"
      ]
     },
     "metadata": {},
     "output_type": "display_data"
    }
   ],
   "source": [
    "q_properties  = \" SELECT  ?p (COUNT(?s) AS ?count ) { ?s ?p ?o } GROUP BY ?p ORDER BY DESC(?count)\"\n",
    "results = prov_graph.query(q_properties)\n",
    "md = \"\"\"\n",
    "| Property name | Number of predicates |\n",
    "|------|------|\n",
    "\"\"\" \n",
    "for r in results :\n",
    "    md = md + \"|\" + str(r['p']) + \" | \" + str(r['count']) + \" | \" + \"\\n\"\n",
    "display(Markdown(md))"
   ]
  },
  {
   "cell_type": "markdown",
   "metadata": {},
   "source": [
    "# 1. Loading the Knowledge Graph\n",
    "This graph is built from: \n",
    "   - the workflow run as a provenance graph (PROV-O): `provenance.ttl`\n",
    "   - a dump of the [bio.tools](http://bio.tools) registry: `biotools-dump-latest.ttl`\n",
    "   - the [EDAM](http://edamontology.org) ontology: `EDAM.owl`\n",
    "\n",
    "Data loading takes around 20s. "
   ]
  },
  {
   "cell_type": "code",
   "execution_count": 18,
   "metadata": {
    "scrolled": true
   },
   "outputs": [
    {
     "name": "stdout",
     "output_type": "stream",
     "text": [
      "provenance.ttl loaded\n",
      "biotools-dump-latest.ttl loaded\n",
      "edam.owl loaded\n",
      "\n",
      "Graph size: 213661 triples\n",
      "CPU times: user 23.6 s, sys: 267 ms, total: 23.9 s\n",
      "Wall time: 24.2 s\n"
     ]
    }
   ],
   "source": [
    "%%time\n",
    "experiment = \"\"\"\n",
    "@prefix mp:  <http://purl.org/mp/> .\n",
    "@prefix rdf: <http://www.w3.org/1999/02/22-rdf-syntax-ns#> .\n",
    "@prefix rdfs: <http://www.w3.org/2000/01/rdf-schema#> .\n",
    "\n",
    "_:mp1 rdf:type mp:Micropublication ;\n",
    "    mp:argues _:claim1 .\n",
    "\n",
    "_:claim1 rdf:type mp:Claim ;\n",
    "    mp:statement \"Rare Coding Variants in ANGPTL6 Are Associated with Familial Forms of Intracranial Aneurysm\" .\n",
    "\"\"\"\n",
    "g.parse(data=experiment, format='turtle')\n",
    "\n",
    "load('provenance.ttl')\n",
    "print('provenance.ttl loaded')\n",
    "\n",
    "load('biotools-dump-latest.ttl')\n",
    "print('biotools-dump-latest.ttl loaded')\n",
    "\n",
    "with io.open('EDAM.owl','r',encoding='utf8') as f:\n",
    "        g.load(f, format='xml')\n",
    "print('edam.owl loaded')\n",
    "\n",
    "print()\n",
    "print('Graph size: %s triples' % len(g))"
   ]
  },
  {
   "cell_type": "markdown",
   "metadata": {},
   "source": [
    "# 2. Machine-oriented summaries"
   ]
  },
  {
   "cell_type": "markdown",
   "metadata": {},
   "source": [
    "Here we assemble a [NanoPublication](http://nanopub.org/wordpress/) aimed at reporting, from the provenance, what has been done on data, with domain-specific annotations. The SPARQL CONSTRUCT query produces RDF triples representing the workflow steps ([P-Plan ontology](http://www.opmw.org/model/p-plan/)) and their nature in terms of [EDAM operations](http://edamontology.org). These triples form the *Assertion* named graph of the publication. "
   ]
  },
  {
   "cell_type": "code",
   "execution_count": 6,
   "metadata": {},
   "outputs": [
    {
     "name": "stdout",
     "output_type": "stream",
     "text": [
      "\n",
      "\n",
      "@prefix : <http://example.org/pub1#> .\n",
      "@prefix ex: <http://example.org/> .\n",
      "@prefix np:  <http://www.nanopub.org/nschema#> .\n",
      "@prefix prov: <http://www.w3.org/ns/prov#> . \n",
      "@prefix xsd:  <http://www.w3.org/2001/XMLSchema#> .\n",
      "\n",
      ":head {\n",
      "    ex:pub1 a np:Nanopublication .\n",
      "    ex:pub1 np:hasAssertion :assertion .\n",
      "    ex:pub1 np:hasProvenance :provenance .\n",
      "    ex:pub1 np:hasPublicationInfo :pubInfo .\n",
      "}\n",
      "\n",
      ":assertion {\n",
      "    <http://snakemake-provenance#activity-fcd2483e-6a4a-4c25-ac62-da88da13480e> <http://www.w3.org/2000/01/rdf-schema#seeAlso> <https://bio.tools/gatk2_variant_annotator-ip> .\n",
      "\t<http://snakemake-provenance#activity-fcd2483e-6a4a-4c25-ac62-da88da13480e> <http://www.w3.org/1999/02/22-rdf-syntax-ns#type> <http://purl.org/net/p-plan#Step> .\n",
      "\t<http://snakemake-provenance#activity-133b295b-41ad-40d1-be31-3d9f1821e220> <http://purl.org/net/p-plan#wasPreceededBy> <http://snakemake-provenance#activity-91c40a1e-45f0-47c2-a19d-3e6d47d993ed> .\n",
      "\t<http://snakemake-provenance#activity-7a09a3bb-e940-4d70-b242-48ce8fca4dd9> <http://purl.org/net/p-plan#wasPreceededBy> <http://snakemake-provenance#activity-e42b45fa-7c20-461c-bf0f-9c97b4c6670a> .\n",
      "\t<http://snakemake-provenance#activity-df1e815f-8dd4-4493-85b9-a26a8a2ca7ad> <https://bio.tools/ontology/has_function> <http://edamontology.org/operation_0232> .\n",
      "\t<http://snakemake-provenance#activity-3ecb4c10-dffd-4d1c-9e61-d438b84a874b> <https://bio.tools/ontology/has_function> <http://edamontology.org/operation_3695> .\n",
      "\t<http://snakemake-provenance#activity-d41f5a7f-5523-487f-b092-8be4c1b7b42f> <http://purl.org/net/p-plan#wasPreceededBy> <http://snakemake-provenance#activity-1df41f0b-a86f-41eb-95cf-cd41c2cb9a85> .\n",
      "\t<http://snakemake-provenance#activity-dde929a6-b8c0-42a7-a051-f02a370a07ab> <http://purl.org/net/p-plan#wasPreceededBy> <http://snakemake-provenance#activity-d41f5a7f-5523-487f-b092-8be4c1b7b42f> .\n",
      "\t<http://snakemake-provenance#activity-e5a4336a-3495-4821-9bd2-24d444b61637> <https://bio.tools/ontology/has_function> <http://edamontology.org/operation_3198> .\n",
      "\t<http://snakemake-provenance#activity-1df41f0b-a86f-41eb-95cf-cd41c2cb9a85> <http://www.w3.org/1999/02/22-rdf-syntax-ns#type> <http://purl.org/net/p-plan#Step> .\n",
      "\t<http://snakemake-provenance#activity-e5a4336a-3495-4821-9bd2-24d444b61637> <http://www.w3.org/2000/01/rdf-schema#seeAlso> <https://bio.tools/bwa_cloudifb> .\n",
      "\t<http://snakemake-provenance#activity-b25534f0-ee06-4a8d-ae9d-e42bb80732b1> <https://bio.tools/ontology/has_function> <http://edamontology.org/operation_3227> .\n",
      "\t<http://snakemake-provenance#activity-c7088668-7613-43c4-a6ed-9a10b163b0de> <http://purl.org/net/p-plan#wasPreceededBy> <http://snakemake-provenance#activity-b28835ac-68b5-4082-8c4a-5eed5794d445> .\n",
      "\t<http://snakemake-provenance#activity-b25534f0-ee06-4a8d-ae9d-e42bb80732b1> <http://www.w3.org/2000/01/rdf-schema#seeAlso> <https://bio.tools/gatk2_variant_select-ip> .\n",
      "\t<http://snakemake-provenance#activity-3ecb4c10-dffd-4d1c-9e61-d438b84a874b> <http://purl.org/net/p-plan#wasPreceededBy> <http://snakemake-provenance#activity-b25534f0-ee06-4a8d-ae9d-e42bb80732b1> .\n",
      "\t<http://snakemake-provenance#activity-b25534f0-ee06-4a8d-ae9d-e42bb80732b1> <http://www.w3.org/1999/02/22-rdf-syntax-ns#type> <http://purl.org/net/p-plan#Step> .\n",
      "\t<http://snakemake-provenance#activity-7a09a3bb-e940-4d70-b242-48ce8fca4dd9> <https://bio.tools/ontology/has_function> <http://edamontology.org/operation_0232> .\n",
      "\t<http://snakemake-provenance#activity-dde929a6-b8c0-42a7-a051-f02a370a07ab> <http://purl.org/net/p-plan#wasPreceededBy> <http://snakemake-provenance#activity-133b295b-41ad-40d1-be31-3d9f1821e220> .\n",
      "\t<http://snakemake-provenance#activity-b28835ac-68b5-4082-8c4a-5eed5794d445> <https://bio.tools/ontology/has_function> <http://edamontology.org/operation_2403> .\n",
      "\t<http://snakemake-provenance#activity-3ecb4c10-dffd-4d1c-9e61-d438b84a874b> <http://www.w3.org/2000/01/rdf-schema#seeAlso> <https://bio.tools/gatk2_variant_filtration-ip> .\n",
      "\t<http://snakemake-provenance#activity-b4de3b83-1cc6-4f48-ad48-540d300cf703> <http://www.w3.org/1999/02/22-rdf-syntax-ns#type> <http://purl.org/net/p-plan#Step> .\n",
      "\t<http://snakemake-provenance#activity-91c40a1e-45f0-47c2-a19d-3e6d47d993ed> <http://www.w3.org/2000/01/rdf-schema#seeAlso> <https://bio.tools/bedtools_mergebedgraph-ip> .\n",
      "\t<http://snakemake-provenance#activity-c17a6f7a-d53d-4c53-a523-b03f23b46fda> <http://purl.org/net/p-plan#wasPreceededBy> <http://snakemake-provenance#activity-133b295b-41ad-40d1-be31-3d9f1821e220> .\n",
      "\t<http://snakemake-provenance#activity-b28835ac-68b5-4082-8c4a-5eed5794d445> <http://www.w3.org/1999/02/22-rdf-syntax-ns#type> <http://purl.org/net/p-plan#Step> .\n",
      "\t<http://snakemake-provenance#activity-e5a4336a-3495-4821-9bd2-24d444b61637> <http://www.w3.org/1999/02/22-rdf-syntax-ns#type> <http://purl.org/net/p-plan#Step> .\n",
      "\t<http://snakemake-provenance#activity-fcd2483e-6a4a-4c25-ac62-da88da13480e> <https://bio.tools/ontology/has_function> <http://edamontology.org/operation_3661> .\n",
      "\t<http://snakemake-provenance#activity-c17a6f7a-d53d-4c53-a523-b03f23b46fda> <http://www.w3.org/2000/01/rdf-schema#seeAlso> <https://bio.tools/gatk2_haplotype_caller-ip> .\n",
      "\t<http://snakemake-provenance#activity-e42b45fa-7c20-461c-bf0f-9c97b4c6670a> <http://www.w3.org/2000/01/rdf-schema#seeAlso> <https://bio.tools/gatk2_variant_filtration-ip> .\n",
      "\t<http://snakemake-provenance#activity-c7088668-7613-43c4-a6ed-9a10b163b0de> <http://purl.org/net/p-plan#wasPreceededBy> <http://snakemake-provenance#activity-6fc46366-474b-4cc6-8e69-fbb54c014881> .\n",
      "\t<http://snakemake-provenance#activity-c17a6f7a-d53d-4c53-a523-b03f23b46fda> <http://www.w3.org/1999/02/22-rdf-syntax-ns#type> <http://purl.org/net/p-plan#Step> .\n",
      "\t<http://snakemake-provenance#activity-e42b45fa-7c20-461c-bf0f-9c97b4c6670a> <http://www.w3.org/1999/02/22-rdf-syntax-ns#type> <http://purl.org/net/p-plan#Step> .\n",
      "\t<http://snakemake-provenance#activity-df1e815f-8dd4-4493-85b9-a26a8a2ca7ad> <http://www.w3.org/1999/02/22-rdf-syntax-ns#type> <http://purl.org/net/p-plan#Step> .\n",
      "\t<http://snakemake-provenance#activity-c7088668-7613-43c4-a6ed-9a10b163b0de> <https://bio.tools/ontology/has_function> <http://edamontology.org/operation_3793> .\n",
      "\t<http://snakemake-provenance#activity-e42b45fa-7c20-461c-bf0f-9c97b4c6670a> <https://bio.tools/ontology/has_function> <http://edamontology.org/operation_3695> .\n",
      "\t<http://snakemake-provenance#activity-1df41f0b-a86f-41eb-95cf-cd41c2cb9a85> <https://bio.tools/ontology/has_function> <http://edamontology.org/operation_3197> .\n",
      "\t<http://snakemake-provenance#activity-b28835ac-68b5-4082-8c4a-5eed5794d445> <http://purl.org/net/p-plan#wasPreceededBy> <http://snakemake-provenance#activity-133b295b-41ad-40d1-be31-3d9f1821e220> .\n",
      "\t<http://snakemake-provenance#activity-6fc46366-474b-4cc6-8e69-fbb54c014881> <https://bio.tools/ontology/has_function> <http://edamontology.org/operation_0495> .\n",
      "\t<http://snakemake-provenance#activity-2de11e77-c462-40d3-b93c-550eb2a65a20> <http://www.w3.org/2000/01/rdf-schema#seeAlso> <https://bio.tools/gatk2_unified_genotyper-ip> .\n",
      "\t<http://snakemake-provenance#activity-2de11e77-c462-40d3-b93c-550eb2a65a20> <https://bio.tools/ontology/has_function> <http://edamontology.org/operation_0452> .\n",
      "\t<http://snakemake-provenance#activity-e5a4336a-3495-4821-9bd2-24d444b61637> <https://bio.tools/ontology/has_function> <http://edamontology.org/operation_3429> .\n",
      "\t<http://snakemake-provenance#activity-d41f5a7f-5523-487f-b092-8be4c1b7b42f> <https://bio.tools/ontology/has_function> <http://edamontology.org/operation_0253> .\n",
      "\t<http://snakemake-provenance#activity-3b3476df-63c8-47c6-b7df-18a96b8ca4b9> <https://bio.tools/ontology/has_function> <http://edamontology.org/operation_3227> .\n",
      "\t<http://snakemake-provenance#activity-6fc46366-474b-4cc6-8e69-fbb54c014881> <http://www.w3.org/2000/01/rdf-schema#seeAlso> <https://bio.tools/gatk2_indel_realigner-ip> .\n",
      "\t<http://snakemake-provenance#activity-91c40a1e-45f0-47c2-a19d-3e6d47d993ed> <https://bio.tools/ontology/has_function> <http://edamontology.org/operation_0232> .\n",
      "\t<http://snakemake-provenance#activity-3ecb4c10-dffd-4d1c-9e61-d438b84a874b> <http://www.w3.org/1999/02/22-rdf-syntax-ns#type> <http://purl.org/net/p-plan#Step> .\n",
      "\t<http://snakemake-provenance#activity-b4de3b83-1cc6-4f48-ad48-540d300cf703> <http://www.w3.org/2000/01/rdf-schema#seeAlso> <https://bio.tools/samtools_sort-ip> .\n",
      "\t<http://snakemake-provenance#activity-3b3476df-63c8-47c6-b7df-18a96b8ca4b9> <http://www.w3.org/1999/02/22-rdf-syntax-ns#type> <http://purl.org/net/p-plan#Step> .\n",
      "\t<http://snakemake-provenance#activity-b25534f0-ee06-4a8d-ae9d-e42bb80732b1> <http://purl.org/net/p-plan#wasPreceededBy> <http://snakemake-provenance#activity-2de11e77-c462-40d3-b93c-550eb2a65a20> .\n",
      "\t<http://snakemake-provenance#activity-6fc46366-474b-4cc6-8e69-fbb54c014881> <http://purl.org/net/p-plan#wasPreceededBy> <http://snakemake-provenance#activity-dde929a6-b8c0-42a7-a051-f02a370a07ab> .\n",
      "\t<http://snakemake-provenance#activity-b4de3b83-1cc6-4f48-ad48-540d300cf703> <https://bio.tools/ontology/has_function> <http://edamontology.org/operation_0335> .\n",
      "\t<http://snakemake-provenance#activity-7a09a3bb-e940-4d70-b242-48ce8fca4dd9> <http://www.w3.org/2000/01/rdf-schema#seeAlso> <https://bio.tools/gatk2_variant_combine-ip> .\n",
      "\t<http://snakemake-provenance#activity-2de11e77-c462-40d3-b93c-550eb2a65a20> <https://bio.tools/ontology/has_function> <http://edamontology.org/operation_3227> .\n",
      "\t<http://snakemake-provenance#activity-1df41f0b-a86f-41eb-95cf-cd41c2cb9a85> <http://purl.org/net/p-plan#wasPreceededBy> <http://snakemake-provenance#activity-b4de3b83-1cc6-4f48-ad48-540d300cf703> .\n",
      "\t<http://snakemake-provenance#activity-3ecb4c10-dffd-4d1c-9e61-d438b84a874b> <https://bio.tools/ontology/has_function> <http://edamontology.org/operation_3197> .\n",
      "\t<http://snakemake-provenance#activity-df1e815f-8dd4-4493-85b9-a26a8a2ca7ad> <http://www.w3.org/2000/01/rdf-schema#seeAlso> <https://bio.tools/gatk2_variant_combine-ip> .\n",
      "\t<http://snakemake-provenance#activity-6fc46366-474b-4cc6-8e69-fbb54c014881> <http://purl.org/net/p-plan#wasPreceededBy> <http://snakemake-provenance#activity-d41f5a7f-5523-487f-b092-8be4c1b7b42f> .\n",
      "\t<http://snakemake-provenance#activity-e5a4336a-3495-4821-9bd2-24d444b61637> <https://bio.tools/ontology/has_function> <http://edamontology.org/operation_3211> .\n",
      "\t<http://snakemake-provenance#activity-7a09a3bb-e940-4d70-b242-48ce8fca4dd9> <http://www.w3.org/1999/02/22-rdf-syntax-ns#type> <http://purl.org/net/p-plan#Step> .\n",
      "\t<http://snakemake-provenance#activity-dde929a6-b8c0-42a7-a051-f02a370a07ab> <https://bio.tools/ontology/has_function> <http://edamontology.org/operation_0495> .\n",
      "\t<http://snakemake-provenance#activity-133b295b-41ad-40d1-be31-3d9f1821e220> <http://www.w3.org/2000/01/rdf-schema#seeAlso> <https://bio.tools/bedtools_mergebedgraph-ip> .\n",
      "\t<http://snakemake-provenance#activity-c17a6f7a-d53d-4c53-a523-b03f23b46fda> <http://purl.org/net/p-plan#wasPreceededBy> <http://snakemake-provenance#activity-c7088668-7613-43c4-a6ed-9a10b163b0de> .\n",
      "\t<http://snakemake-provenance#activity-133b295b-41ad-40d1-be31-3d9f1821e220> <https://bio.tools/ontology/has_function> <http://edamontology.org/operation_0232> .\n",
      "\t<http://snakemake-provenance#activity-2de11e77-c462-40d3-b93c-550eb2a65a20> <http://www.w3.org/1999/02/22-rdf-syntax-ns#type> <http://purl.org/net/p-plan#Step> .\n",
      "\t<http://snakemake-provenance#activity-c17a6f7a-d53d-4c53-a523-b03f23b46fda> <https://bio.tools/ontology/has_function> <http://edamontology.org/operation_3227> .\n",
      "\t<http://snakemake-provenance#activity-fcd2483e-6a4a-4c25-ac62-da88da13480e> <http://purl.org/net/p-plan#wasPreceededBy> <http://snakemake-provenance#activity-7a09a3bb-e940-4d70-b242-48ce8fca4dd9> .\n",
      "\t<http://snakemake-provenance#activity-d41f5a7f-5523-487f-b092-8be4c1b7b42f> <http://www.w3.org/1999/02/22-rdf-syntax-ns#type> <http://purl.org/net/p-plan#Step> .\n",
      "\t<http://snakemake-provenance#activity-c7088668-7613-43c4-a6ed-9a10b163b0de> <http://www.w3.org/1999/02/22-rdf-syntax-ns#type> <http://purl.org/net/p-plan#Step> .\n",
      "\t<http://snakemake-provenance#activity-b4de3b83-1cc6-4f48-ad48-540d300cf703> <http://purl.org/net/p-plan#wasPreceededBy> <http://snakemake-provenance#activity-e5a4336a-3495-4821-9bd2-24d444b61637> .\n",
      "\t<http://snakemake-provenance#activity-e42b45fa-7c20-461c-bf0f-9c97b4c6670a> <http://purl.org/net/p-plan#wasPreceededBy> <http://snakemake-provenance#activity-3b3476df-63c8-47c6-b7df-18a96b8ca4b9> .\n",
      "\t<http://snakemake-provenance#activity-7a09a3bb-e940-4d70-b242-48ce8fca4dd9> <http://purl.org/net/p-plan#wasPreceededBy> <http://snakemake-provenance#activity-3ecb4c10-dffd-4d1c-9e61-d438b84a874b> .\n",
      "\t<http://snakemake-provenance#activity-b28835ac-68b5-4082-8c4a-5eed5794d445> <http://purl.org/net/p-plan#wasPreceededBy> <http://snakemake-provenance#activity-6fc46366-474b-4cc6-8e69-fbb54c014881> .\n",
      "\t<http://snakemake-provenance#activity-2de11e77-c462-40d3-b93c-550eb2a65a20> <http://purl.org/net/p-plan#wasPreceededBy> <http://snakemake-provenance#activity-df1e815f-8dd4-4493-85b9-a26a8a2ca7ad> .\n",
      "\t<http://snakemake-provenance#activity-6fc46366-474b-4cc6-8e69-fbb54c014881> <http://www.w3.org/1999/02/22-rdf-syntax-ns#type> <http://purl.org/net/p-plan#Step> .\n",
      "\t<http://snakemake-provenance#activity-d41f5a7f-5523-487f-b092-8be4c1b7b42f> <http://www.w3.org/2000/01/rdf-schema#seeAlso> <https://bio.tools/markduplicates_ip> .\n",
      "\t<http://snakemake-provenance#activity-e42b45fa-7c20-461c-bf0f-9c97b4c6670a> <https://bio.tools/ontology/has_function> <http://edamontology.org/operation_3197> .\n",
      "\t<http://snakemake-provenance#activity-1df41f0b-a86f-41eb-95cf-cd41c2cb9a85> <http://www.w3.org/2000/01/rdf-schema#seeAlso> <https://bio.tools/picard_tools> .\n",
      "\t<http://snakemake-provenance#activity-e5a4336a-3495-4821-9bd2-24d444b61637> <https://bio.tools/ontology/has_function> <http://edamontology.org/operation_0292> .\n",
      "\t<http://snakemake-provenance#activity-b28835ac-68b5-4082-8c4a-5eed5794d445> <http://www.w3.org/2000/01/rdf-schema#seeAlso> <https://bio.tools/gatk2_base_recalibrator-ip> .\n",
      "\t<http://snakemake-provenance#activity-3b3476df-63c8-47c6-b7df-18a96b8ca4b9> <http://www.w3.org/2000/01/rdf-schema#seeAlso> <https://bio.tools/gatk2_variant_select-ip> .\n",
      "\t<http://snakemake-provenance#activity-91c40a1e-45f0-47c2-a19d-3e6d47d993ed> <http://www.w3.org/1999/02/22-rdf-syntax-ns#type> <http://purl.org/net/p-plan#Step> .\n",
      "\t<http://snakemake-provenance#activity-3b3476df-63c8-47c6-b7df-18a96b8ca4b9> <http://purl.org/net/p-plan#wasPreceededBy> <http://snakemake-provenance#activity-2de11e77-c462-40d3-b93c-550eb2a65a20> .\n",
      "\t<http://snakemake-provenance#activity-133b295b-41ad-40d1-be31-3d9f1821e220> <http://www.w3.org/1999/02/22-rdf-syntax-ns#type> <http://purl.org/net/p-plan#Step> .\n",
      "\t<http://snakemake-provenance#activity-dde929a6-b8c0-42a7-a051-f02a370a07ab> <http://www.w3.org/1999/02/22-rdf-syntax-ns#type> <http://purl.org/net/p-plan#Step> .\n",
      "\t<http://snakemake-provenance#activity-c7088668-7613-43c4-a6ed-9a10b163b0de> <http://www.w3.org/2000/01/rdf-schema#seeAlso> <https://bio.tools/gatk2_print_reads-ip> .\n",
      "\t<http://snakemake-provenance#activity-dde929a6-b8c0-42a7-a051-f02a370a07ab> <http://www.w3.org/2000/01/rdf-schema#seeAlso> <https://bio.tools/gatk2_realigner_target_creator-ip> .\n",
      "}\n",
      "\n",
      ":provenance {\n",
      "    :assertion prov:generatedAtTime \"2019-02-01T13:48:19.183163\"^^xsd:dateTime .\n",
      "    :assertion prov:wasDerivedFrom :experiment .\n",
      "    :assertion prov:wasAttributedTo <https://orcid.org/0000-0002-3597-8557> .\n",
      "}\n",
      "\n",
      ":pubInfo {\n",
      "    ex:pub1 prov:wasAttributedTo <https://orcid.org/0000-0002-3597-8557> .\n",
      "}\n",
      "\n",
      "\n"
     ]
    }
   ],
   "source": [
    "my_ORCID = \"0000-0002-3597-8557\"\n",
    "\n",
    "wf_assertions = []\n",
    "\n",
    "np_wf_query = \"\"\"\n",
    "    CONSTRUCT {\n",
    "        ?x2 p-plan:wasPreceededBy ?x1 .\n",
    "        ?x2 rdf:type p-plan:Step ;\n",
    "            biotools:has_function ?f2 ; \n",
    "            rdfs:seeAlso ?t2 .\n",
    "        ?x1 rdf:type p-plan:Step ;\n",
    "            biotools:has_function ?f1 ; \n",
    "            rdfs:seeAlso ?t1 .\n",
    "    } WHERE {\n",
    "        ?x2 p-plan:wasPreceededBy ?x1 .\n",
    "        ?x2 prov:wasAssociatedWith ?t2 .\n",
    "        ?x1 prov:wasAssociatedWith ?t1 .\n",
    "        ?t1 biotools:has_function ?f1 .\n",
    "        ?f1 rdfs:label ?f1_label .\n",
    "        ?t2 biotools:has_function ?f2 .\n",
    "        ?f2 rdfs:label ?f2_label .\n",
    "    }\n",
    "\"\"\"\n",
    "\n",
    "results = abstract_wf.query(np_wf_query)\n",
    "for r in results :\n",
    "    wf_assertions.append('<'+str(r[0])+'>' \" \" + '<'+str(r[1])+'>' + \" \" + '<'+str(r[2])+'> .')\n",
    "\n",
    "\n",
    "nanopub_template = \"\"\"\n",
    "\n",
    "@prefix : <http://example.org/pub1#> .\n",
    "@prefix ex: <http://example.org/> .\n",
    "@prefix np:  <http://www.nanopub.org/nschema#> .\n",
    "@prefix prov: <http://www.w3.org/ns/prov#> . \n",
    "@prefix xsd:  <http://www.w3.org/2001/XMLSchema#> .\n",
    "\n",
    ":head {\n",
    "    ex:pub1 a np:Nanopublication .\n",
    "    ex:pub1 np:hasAssertion :assertion .\n",
    "    ex:pub1 np:hasProvenance :provenance .\n",
    "    ex:pub1 np:hasPublicationInfo :pubInfo .\n",
    "}\n",
    "\n",
    ":assertion {\n",
    "    $Assertion\n",
    "}\n",
    "\n",
    ":provenance {\n",
    "    :assertion prov:generatedAtTime \\\"\"\"\"+datetime.datetime.now().isoformat()+\"\"\"\\\"^^xsd:dateTime .\n",
    "    :assertion prov:wasDerivedFrom :experiment .\n",
    "    :assertion prov:wasAttributedTo <https://orcid.org/\"\"\"+my_ORCID+\"\"\"> .\n",
    "}\n",
    "\n",
    ":pubInfo {\n",
    "    ex:pub1 prov:wasAttributedTo <https://orcid.org/\"\"\"+my_ORCID+\"\"\"> .\n",
    "}\n",
    "\n",
    "\"\"\"\n",
    "\n",
    "assert_graph = ('\\n\\t').join(wf_assertions)\n",
    "\n",
    "np = Template(nanopub_template)\n",
    "np = np.substitute(Assertion = assert_graph)\n",
    "\n",
    "print(np)"
   ]
  },
  {
   "cell_type": "markdown",
   "metadata": {},
   "source": [
    "### Now we focus more on data and associate the domain annotations gathered from the tools to each processed data. "
   ]
  },
  {
   "cell_type": "code",
   "execution_count": 19,
   "metadata": {},
   "outputs": [
    {
     "name": "stdout",
     "output_type": "stream",
     "text": [
      "\n",
      "\n",
      "@prefix : <http://example.org/pub1#> .\n",
      "@prefix ex: <http://example.org/> .\n",
      "@prefix np:  <http://www.nanopub.org/nschema#> .\n",
      "@prefix prov: <http://www.w3.org/ns/prov#> . \n",
      "@prefix xsd:  <http://www.w3.org/2001/XMLSchema#> .\n",
      "\n",
      ":head {\n",
      "    ex:pub1 a np:Nanopublication .\n",
      "    ex:pub1 np:hasAssertion :assertion .\n",
      "    ex:pub1 np:hasProvenance :provenance .\n",
      "    ex:pub1 np:hasPublicationInfo :pubInfo .\n",
      "}\n",
      "\n",
      ":assertion {\n",
      "    <http://snakemake-provenance/VCF/hapcaller.indel.recal.filter.vcf.gz> <http://www.w3.org/2000/01/rdf-schema#comment> <Analyse a genetic variation, for example to annotate its location, alleles, classification, and effects on individual transcripts predicted for a gene model.> .\n",
      "\t<http://snakemake-provenance/VCF/hapcaller.snv.recal.filter.vcf.gz.tbi> <http://www.w3.org/2000/01/rdf-schema#comment> <Analyse a genetic variation, for example to annotate its location, alleles, classification, and effects on individual transcripts predicted for a gene model.> .\n",
      "\t<http://snakemake-provenance/Samples/Sample1/QC/Sample1.markdup.metrics> <http://www.w3.org/2000/01/rdf-schema#comment> <Predict, recognise and identify positional features in molecular sequences such as key functional sites or regions.> .\n",
      "\t<http://snakemake-provenance/Samples/Sample1/BAM/Sample1.markdup.bam> <http://www.w3.org/2000/01/rdf-schema#seeAlso> <http://edamontology.org/operation_0253> .\n",
      "\t<http://snakemake-provenance/VCF/hapcaller.snv.recal.filter.vcf.gz> <http://www.w3.org/2000/01/rdf-schema#comment> <Filter a set of files or data items according to some property.> .\n",
      "\t<http://snakemake-provenance/VCF/hapcaller.recal.combined.annot.gnomad.vcf.gz.tbi> <http://www.w3.org/2000/01/rdf-schema#comment> <Predict the effect or function of an individual single nucleotide polymorphism (SNP).> .\n",
      "\t<http://snakemake-provenance/VCF/hapcaller.combined.g.vcf.gz.tbi> <http://www.w3.org/2000/01/rdf-schema#seeAlso> <http://edamontology.org/operation_0232> .\n",
      "\t<http://snakemake-provenance/Samples/Sample1/BAM/Sample1.markdup.bai> <http://www.w3.org/2000/01/rdf-schema#comment> <Predict, recognise and identify positional features in molecular sequences such as key functional sites or regions.> .\n",
      "\t<http://snakemake-provenance/Samples/Sample1/BAM/Sample1.recal.table> <http://www.w3.org/2000/01/rdf-schema#comment> <Analyse one or more known molecular sequences.> .\n",
      "\t<http://snakemake-provenance/VCF/hapcaller.genotyped.vcf.gz.tbi> <http://www.w3.org/2000/01/rdf-schema#seeAlso> <http://edamontology.org/operation_0452> .\n",
      "\t<http://snakemake-provenance/Samples/Sample1/BAM/Sample1.final.bam> <http://www.w3.org/2000/01/rdf-schema#comment> <Counting and summarising the number of short sequence reads that map to genomic features.> .\n",
      "\t<http://snakemake-provenance/BED/capture.extended1000.bed> <http://www.w3.org/2000/01/rdf-schema#seeAlso> <http://edamontology.org/operation_0232> .\n",
      "\t<http://snakemake-provenance/Samples/Sample1/BAM/Sample1.markdup.bai> <http://www.w3.org/2000/01/rdf-schema#seeAlso> <http://edamontology.org/operation_0253> .\n",
      "\t<http://snakemake-provenance/VCF/hapcaller.recal.combined.vcf.gz.tbi> <http://www.w3.org/2000/01/rdf-schema#comment> <Merge two or more (typically overlapping) molecular sequences.> .\n",
      "\t<http://snakemake-provenance/Samples/Sample1/QC/Sample1.markdup.metrics> <http://www.w3.org/2000/01/rdf-schema#seeAlso> <http://edamontology.org/operation_0253> .\n",
      "\t<http://snakemake-provenance/Samples/Sample1/BAM/Sample1.p1.aligned.sam> <http://www.w3.org/2000/01/rdf-schema#comment> <Construct some data entity.> .\n",
      "\t<http://snakemake-provenance/VCF/hapcaller.indel.recal.filter.vcf.gz> <http://www.w3.org/2000/01/rdf-schema#seeAlso> <http://edamontology.org/operation_3695> .\n",
      "\t<http://snakemake-provenance/VCF/hapcaller.genotyped.vcf.gz.tbi> <http://www.w3.org/2000/01/rdf-schema#comment> <Identify and map genomic alterations, including single nucleotide polymorphisms, short indels and structural variants, in a genome sequence.> .\n",
      "\t<http://snakemake-provenance/VCF/hapcaller.recal.combined.vcf.gz> <http://www.w3.org/2000/01/rdf-schema#comment> <Merge two or more (typically overlapping) molecular sequences.> .\n",
      "\t<http://snakemake-provenance/VCF/hapcaller.snv.recal.filter.vcf.gz.tbi> <http://www.w3.org/2000/01/rdf-schema#comment> <Filter a set of files or data items according to some property.> .\n",
      "\t<http://snakemake-provenance/Samples/Sample1/BAM/Sample1.p1.aligned.sam> <http://www.w3.org/2000/01/rdf-schema#seeAlso> <http://edamontology.org/operation_3198> .\n",
      "\t<http://snakemake-provenance/BED/capture.bed> <http://www.w3.org/2000/01/rdf-schema#comment> <Merge two or more (typically overlapping) molecular sequences.> .\n",
      "\t<http://snakemake-provenance/Samples/Sample1/BAM/Sample1.merged.bai> <http://www.w3.org/2000/01/rdf-schema#comment> <Analyse a genetic variation, for example to annotate its location, alleles, classification, and effects on individual transcripts predicted for a gene model.> .\n",
      "\t<http://snakemake-provenance/VCF/hapcaller.genotyped.vcf.gz.tbi> <http://www.w3.org/2000/01/rdf-schema#comment> <Identify insertion, deletion and duplication events from a sequence alignment.> .\n",
      "\t<http://snakemake-provenance/VCF/hapcaller.recal.combined.annot.gnomad.vcf.gz> <http://www.w3.org/2000/01/rdf-schema#seeAlso> <http://edamontology.org/operation_3661> .\n",
      "\t<http://snakemake-provenance/VCF/hapcaller.indel.recal.filter.vcf.gz.tbi> <http://www.w3.org/2000/01/rdf-schema#comment> <Filter a set of files or data items according to some property.> .\n",
      "\t<http://snakemake-provenance/VCF/hapcaller.genotyped.vcf.gz.tbi> <http://www.w3.org/2000/01/rdf-schema#seeAlso> <http://edamontology.org/operation_3227> .\n",
      "\t<http://snakemake-provenance/VCF/hapcaller.indel.recal.filter.vcf.gz> <http://www.w3.org/2000/01/rdf-schema#comment> <Filter a set of files or data items according to some property.> .\n",
      "\t<http://snakemake-provenance/VCF/hapcaller.snv.recal.select.vcf.gz> <http://www.w3.org/2000/01/rdf-schema#comment> <Identify and map genomic alterations, including single nucleotide polymorphisms, short indels and structural variants, in a genome sequence.> .\n",
      "\t<http://snakemake-provenance/VCF/hapcaller.genotyped.vcf.gz> <http://www.w3.org/2000/01/rdf-schema#seeAlso> <http://edamontology.org/operation_0452> .\n",
      "\t<http://snakemake-provenance/Samples/Sample1/BAM/Sample1.realign.intervals> <http://www.w3.org/2000/01/rdf-schema#seeAlso> <http://edamontology.org/operation_0495> .\n",
      "\t<http://snakemake-provenance/VCF/hapcaller.combined.g.vcf.gz> <http://www.w3.org/2000/01/rdf-schema#seeAlso> <http://edamontology.org/operation_0232> .\n",
      "\t<http://snakemake-provenance/VCF/hapcaller.indel.recal.filter.vcf.gz> <http://www.w3.org/2000/01/rdf-schema#seeAlso> <http://edamontology.org/operation_3197> .\n",
      "\t<http://snakemake-provenance/VCF/hapcaller.genotyped.vcf.gz> <http://www.w3.org/2000/01/rdf-schema#comment> <Identify and map genomic alterations, including single nucleotide polymorphisms, short indels and structural variants, in a genome sequence.> .\n",
      "\t<http://snakemake-provenance/VCF/hapcaller.snv.recal.select.vcf.gz.tbi> <http://www.w3.org/2000/01/rdf-schema#seeAlso> <http://edamontology.org/operation_3227> .\n",
      "\t<http://snakemake-provenance/VCF/hapcaller.snv.recal.select.vcf.gz.tbi> <http://www.w3.org/2000/01/rdf-schema#comment> <Identify and map genomic alterations, including single nucleotide polymorphisms, short indels and structural variants, in a genome sequence.> .\n",
      "\t<http://snakemake-provenance/VCF/hapcaller.recal.combined.vcf.gz> <http://www.w3.org/2000/01/rdf-schema#seeAlso> <http://edamontology.org/operation_0232> .\n",
      "\t<http://snakemake-provenance/Samples/Sample1/BAM/Sample1.p1.aligned.sam> <http://www.w3.org/2000/01/rdf-schema#seeAlso> <http://edamontology.org/operation_0292> .\n",
      "\t<http://snakemake-provenance/Samples/Sample1/BAM/Sample1.p1.aligned.sam> <http://www.w3.org/2000/01/rdf-schema#comment> <Align (identify equivalent sites within) molecular sequences.> .\n",
      "\t<http://snakemake-provenance/VCF/hapcaller.genotyped.vcf.gz> <http://www.w3.org/2000/01/rdf-schema#comment> <Identify insertion, deletion and duplication events from a sequence alignment.> .\n",
      "\t<http://snakemake-provenance/Samples/Sample1/BAM/Sample1.p1.sorted.bam> <http://www.w3.org/2000/01/rdf-schema#seeAlso> <http://edamontology.org/operation_0335> .\n",
      "\t<http://snakemake-provenance/BED/capture.extended1000.bed> <http://www.w3.org/2000/01/rdf-schema#comment> <Merge two or more (typically overlapping) molecular sequences.> .\n",
      "\t<http://snakemake-provenance/VCF/hapcaller.snv.recal.select.vcf.gz> <http://www.w3.org/2000/01/rdf-schema#seeAlso> <http://edamontology.org/operation_3227> .\n",
      "\t<http://snakemake-provenance/Samples/Sample1/BAM/Sample1.final.bai> <http://www.w3.org/2000/01/rdf-schema#seeAlso> <http://edamontology.org/operation_3793> .\n",
      "\t<http://snakemake-provenance/VCF/hapcaller.snv.recal.filter.vcf.gz> <http://www.w3.org/2000/01/rdf-schema#seeAlso> <http://edamontology.org/operation_3695> .\n",
      "\t<http://snakemake-provenance/Samples/Sample1/BAM/Sample1.final.bai> <http://www.w3.org/2000/01/rdf-schema#comment> <Counting and summarising the number of short sequence reads that map to genomic features.> .\n",
      "\t<http://snakemake-provenance/VCF/hapcaller.indel.recal.filter.vcf.gz.tbi> <http://www.w3.org/2000/01/rdf-schema#seeAlso> <http://edamontology.org/operation_3695> .\n",
      "\t<http://snakemake-provenance/Samples/Sample1/BAM/Sample1.merged.bam> <http://www.w3.org/2000/01/rdf-schema#comment> <Analyse a genetic variation, for example to annotate its location, alleles, classification, and effects on individual transcripts predicted for a gene model.> .\n",
      "\t<http://snakemake-provenance/VCF/hapcaller.indel.recal.filter.vcf.gz.tbi> <http://www.w3.org/2000/01/rdf-schema#comment> <Analyse a genetic variation, for example to annotate its location, alleles, classification, and effects on individual transcripts predicted for a gene model.> .\n",
      "\t<http://snakemake-provenance/Samples/Sample1/VCF/Sample1.hapcaller.g.vcf.idx> <http://www.w3.org/2000/01/rdf-schema#seeAlso> <http://edamontology.org/operation_3227> .\n",
      "\t<http://snakemake-provenance/VCF/hapcaller.snv.recal.filter.vcf.gz.tbi> <http://www.w3.org/2000/01/rdf-schema#seeAlso> <http://edamontology.org/operation_3197> .\n",
      "\t<http://snakemake-provenance/Samples/Sample1/VCF/Sample1.hapcaller.g.vcf> <http://www.w3.org/2000/01/rdf-schema#comment> <Identify and map genomic alterations, including single nucleotide polymorphisms, short indels and structural variants, in a genome sequence.> .\n",
      "\t<http://snakemake-provenance/VCF/hapcaller.recal.combined.annot.gnomad.vcf.gz> <http://www.w3.org/2000/01/rdf-schema#comment> <Predict the effect or function of an individual single nucleotide polymorphism (SNP).> .\n",
      "\t<http://snakemake-provenance/Samples/Sample1/BAM/Sample1.realign.bai> <http://www.w3.org/2000/01/rdf-schema#seeAlso> <http://edamontology.org/operation_0495> .\n",
      "\t<http://snakemake-provenance/VCF/hapcaller.indel.recal.select.vcf.gz.tbi> <http://www.w3.org/2000/01/rdf-schema#comment> <Identify and map genomic alterations, including single nucleotide polymorphisms, short indels and structural variants, in a genome sequence.> .\n",
      "\t<http://snakemake-provenance/Samples/Sample1/BAM/Sample1.realign.bam> <http://www.w3.org/2000/01/rdf-schema#comment> <Locally align two or more molecular sequences.> .\n",
      "\t<http://snakemake-provenance/Samples/Sample1/VCF/Sample1.hapcaller.g.vcf.idx> <http://www.w3.org/2000/01/rdf-schema#comment> <Identify and map genomic alterations, including single nucleotide polymorphisms, short indels and structural variants, in a genome sequence.> .\n",
      "\t<http://snakemake-provenance/Samples/Sample1/BAM/Sample1.markdup.bam> <http://www.w3.org/2000/01/rdf-schema#comment> <Predict, recognise and identify positional features in molecular sequences such as key functional sites or regions.> .\n",
      "\t<http://snakemake-provenance/Samples/Sample1/BAM/Sample1.realign.intervals> <http://www.w3.org/2000/01/rdf-schema#comment> <Locally align two or more molecular sequences.> .\n",
      "\t<http://snakemake-provenance/VCF/hapcaller.indel.recal.select.vcf.gz> <http://www.w3.org/2000/01/rdf-schema#comment> <Identify and map genomic alterations, including single nucleotide polymorphisms, short indels and structural variants, in a genome sequence.> .\n",
      "\t<http://snakemake-provenance/Samples/Sample1/BAM/Sample1.realign.bam> <http://www.w3.org/2000/01/rdf-schema#seeAlso> <http://edamontology.org/operation_0495> .\n",
      "\t<http://snakemake-provenance/VCF/hapcaller.genotyped.vcf.gz> <http://www.w3.org/2000/01/rdf-schema#seeAlso> <http://edamontology.org/operation_3227> .\n",
      "\t<http://snakemake-provenance/Samples/Sample1/BAM/Sample1.final.bam> <http://www.w3.org/2000/01/rdf-schema#seeAlso> <http://edamontology.org/operation_3793> .\n",
      "\t<http://snakemake-provenance/Samples/Sample1/BAM/Sample1.realign.bai> <http://www.w3.org/2000/01/rdf-schema#comment> <Locally align two or more molecular sequences.> .\n",
      "\t<http://snakemake-provenance/VCF/hapcaller.snv.recal.filter.vcf.gz> <http://www.w3.org/2000/01/rdf-schema#comment> <Analyse a genetic variation, for example to annotate its location, alleles, classification, and effects on individual transcripts predicted for a gene model.> .\n",
      "\t<http://snakemake-provenance/Samples/Sample1/BAM/Sample1.p1.aligned.sam> <http://www.w3.org/2000/01/rdf-schema#comment> <Generate an index of a genome sequence.> .\n",
      "\t<http://snakemake-provenance/VCF/hapcaller.combined.g.vcf.gz> <http://www.w3.org/2000/01/rdf-schema#comment> <Merge two or more (typically overlapping) molecular sequences.> .\n",
      "\t<http://snakemake-provenance/VCF/hapcaller.indel.recal.select.vcf.gz.tbi> <http://www.w3.org/2000/01/rdf-schema#seeAlso> <http://edamontology.org/operation_3227> .\n",
      "\t<http://snakemake-provenance/VCF/hapcaller.indel.recal.select.vcf.gz> <http://www.w3.org/2000/01/rdf-schema#seeAlso> <http://edamontology.org/operation_3227> .\n",
      "\t<http://snakemake-provenance/VCF/hapcaller.snv.recal.filter.vcf.gz.tbi> <http://www.w3.org/2000/01/rdf-schema#seeAlso> <http://edamontology.org/operation_3695> .\n",
      "\t<http://snakemake-provenance/VCF/hapcaller.combined.g.vcf.gz.tbi> <http://www.w3.org/2000/01/rdf-schema#comment> <Merge two or more (typically overlapping) molecular sequences.> .\n",
      "\t<http://snakemake-provenance/Samples/Sample1/BAM/Sample1.merged.bai> <http://www.w3.org/2000/01/rdf-schema#seeAlso> <http://edamontology.org/operation_3197> .\n",
      "\t<http://snakemake-provenance/Samples/Sample1/BAM/Sample1.merged.bam> <http://www.w3.org/2000/01/rdf-schema#seeAlso> <http://edamontology.org/operation_3197> .\n",
      "\t<http://snakemake-provenance/VCF/hapcaller.indel.recal.filter.vcf.gz.tbi> <http://www.w3.org/2000/01/rdf-schema#seeAlso> <http://edamontology.org/operation_3197> .\n",
      "\t<http://snakemake-provenance/Samples/Sample1/VCF/Sample1.hapcaller.g.vcf> <http://www.w3.org/2000/01/rdf-schema#seeAlso> <http://edamontology.org/operation_3227> .\n",
      "\t<http://snakemake-provenance/Samples/Sample1/BAM/Sample1.p1.aligned.sam> <http://www.w3.org/2000/01/rdf-schema#comment> <Align short oligonucleotide sequences (reads) to a larger (genomic) sequence.> .\n",
      "\t<http://snakemake-provenance/BED/capture.bed> <http://www.w3.org/2000/01/rdf-schema#seeAlso> <http://edamontology.org/operation_0232> .\n",
      "\t<http://snakemake-provenance/VCF/hapcaller.snv.recal.filter.vcf.gz> <http://www.w3.org/2000/01/rdf-schema#seeAlso> <http://edamontology.org/operation_3197> .\n",
      "\t<http://snakemake-provenance/Samples/Sample1/BAM/Sample1.p1.aligned.sam> <http://www.w3.org/2000/01/rdf-schema#seeAlso> <http://edamontology.org/operation_3429> .\n",
      "\t<http://snakemake-provenance/Samples/Sample1/BAM/Sample1.p1.sorted.bam> <http://www.w3.org/2000/01/rdf-schema#comment> <Reformat a file of data (or equivalent entity in memory).> .\n",
      "\t<http://snakemake-provenance/Samples/Sample1/BAM/Sample1.p1.aligned.sam> <http://www.w3.org/2000/01/rdf-schema#seeAlso> <http://edamontology.org/operation_3211> .\n",
      "\t<http://snakemake-provenance/VCF/hapcaller.recal.combined.vcf.gz.tbi> <http://www.w3.org/2000/01/rdf-schema#seeAlso> <http://edamontology.org/operation_0232> .\n",
      "\t<http://snakemake-provenance/VCF/hapcaller.recal.combined.annot.gnomad.vcf.gz.tbi> <http://www.w3.org/2000/01/rdf-schema#seeAlso> <http://edamontology.org/operation_3661> .\n",
      "\t<http://snakemake-provenance/Samples/Sample1/BAM/Sample1.recal.table> <http://www.w3.org/2000/01/rdf-schema#seeAlso> <http://edamontology.org/operation_2403> .\n",
      "}\n",
      "\n",
      ":provenance {\n",
      "    :assertion prov:generatedAtTime \"2019-02-08T17:32:25.295322\"^^xsd:dateTime .\n",
      "    :assertion prov:wasDerivedFrom :experiment .\n",
      "    :assertion prov:wasAttributedTo <https://orcid.org/0000-0002-3597-8557> .\n",
      "}\n",
      "\n",
      ":pubInfo {\n",
      "    ex:pub1 prov:wasAttributedTo <https://orcid.org/0000-0002-3597-8557> .\n",
      "}\n",
      "\n",
      "\n",
      "CPU times: user 48.2 ms, sys: 3.08 ms, total: 51.3 ms\n",
      "Wall time: 49.4 ms\n"
     ]
    }
   ],
   "source": [
    "%%time\n",
    "my_ORCID = \"0000-0002-3597-8557\"\n",
    "\n",
    "data_assertions = []\n",
    "\n",
    "np_data_query = \"\"\"\n",
    "    CONSTRUCT {\n",
    "        ?d rdfs:seeAlso ?f .\n",
    "        ?d rdfs:comment ?f_def .\n",
    "    } WHERE {\n",
    "        ?d rdf:type prov:Entity ;\n",
    "           prov:wasGeneratedBy ?x ;\n",
    "           prov:wasAssociatedWith ?tool ;\n",
    "           rdfs:label ?d_label .\n",
    "        \n",
    "        ?tool dc:title ?title ;\n",
    "            biotools:has_function ?f .\n",
    "            \n",
    "        ?f rdfs:label ?f_label ;\n",
    "            oboInOwl:hasDefinition ?f_def .\n",
    "    }\n",
    "\"\"\"\n",
    "\n",
    "results = g.query(np_data_query)\n",
    "for r in results :\n",
    "    data_assertions.append('<'+str(r[0])+'>' \" \" + '<'+str(r[1])+'>' + \" \" + '<'+str(r[2])+'> .')\n",
    "\n",
    "\n",
    "nanopub_template = \"\"\"\n",
    "\n",
    "@prefix : <http://example.org/pub1#> .\n",
    "@prefix ex: <http://example.org/> .\n",
    "@prefix np:  <http://www.nanopub.org/nschema#> .\n",
    "@prefix prov: <http://www.w3.org/ns/prov#> . \n",
    "@prefix xsd:  <http://www.w3.org/2001/XMLSchema#> .\n",
    "\n",
    ":head {\n",
    "    ex:pub1 a np:Nanopublication .\n",
    "    ex:pub1 np:hasAssertion :assertion .\n",
    "    ex:pub1 np:hasProvenance :provenance .\n",
    "    ex:pub1 np:hasPublicationInfo :pubInfo .\n",
    "}\n",
    "\n",
    ":assertion {\n",
    "    $Assertion\n",
    "}\n",
    "\n",
    ":provenance {\n",
    "    :assertion prov:generatedAtTime \\\"\"\"\"+datetime.datetime.now().isoformat()+\"\"\"\\\"^^xsd:dateTime .\n",
    "    :assertion prov:wasDerivedFrom :experiment .\n",
    "    :assertion prov:wasAttributedTo <https://orcid.org/\"\"\"+my_ORCID+\"\"\"> .\n",
    "}\n",
    "\n",
    ":pubInfo {\n",
    "    ex:pub1 prov:wasAttributedTo <https://orcid.org/\"\"\"+my_ORCID+\"\"\"> .\n",
    "}\n",
    "\n",
    "\"\"\"\n",
    "\n",
    "assert_graph = ('\\n\\t').join(data_assertions)\n",
    "\n",
    "np = Template(nanopub_template)\n",
    "np = np.substitute(Assertion = assert_graph)\n",
    "\n",
    "print(np)"
   ]
  },
  {
   "cell_type": "markdown",
   "metadata": {},
   "source": [
    "# 3. Human-oriented data summaries"
   ]
  },
  {
   "cell_type": "markdown",
   "metadata": {},
   "source": [
    "## Sentence-based data explanations  \n",
    "Here, the goal is to describe a piece of data with the consensual definition of **what** does the tool that generates this piece of data.  \n",
    "Technically, this is done with a SPARQL query that combine the provenance information (*prov:wasGeneratedBy*), the description of the tool (*biotools:has_function*), and the domain knowledge on the nature of the processing (*oboInOwl:hasDefinition*). "
   ]
  },
  {
   "cell_type": "code",
   "execution_count": 10,
   "metadata": {
    "scrolled": true
   },
   "outputs": [
    {
     "data": {
      "text/markdown": [
       "The file `Samples/Sample1/BAM/Sample1.realign.bai` **results from tool** gatk2_indel_realigner-IP **which** Locally align two or more molecular sequences."
      ],
      "text/plain": [
       "<IPython.core.display.Markdown object>"
      ]
     },
     "metadata": {},
     "output_type": "display_data"
    },
    {
     "data": {
      "text/markdown": [
       " **It was produced in the context of** Rare Coding Variants in ANGPTL6 Are Associated with Familial Forms of Intracranial Aneurysm"
      ],
      "text/plain": [
       "<IPython.core.display.Markdown object>"
      ]
     },
     "metadata": {},
     "output_type": "display_data"
    },
    {
     "data": {
      "text/markdown": [
       "The file `Samples/Sample1/BAM/Sample1.realign.bai` **results from tool** gatk2_indel_realigner-IP **which** Locally align two or more molecular sequences."
      ],
      "text/plain": [
       "<IPython.core.display.Markdown object>"
      ]
     },
     "metadata": {},
     "output_type": "display_data"
    },
    {
     "data": {
      "text/markdown": [
       " **It was produced in the context of** Rare Coding Variants in ANGPTL6 Are Associated with Familial Forms of Intracranial Aneurysm"
      ],
      "text/plain": [
       "<IPython.core.display.Markdown object>"
      ]
     },
     "metadata": {},
     "output_type": "display_data"
    },
    {
     "data": {
      "text/markdown": [
       "The file `Samples/Sample1/BAM/Sample1.merged.bam` **results from tool** Picard **which** Analyse a genetic variation, for example to annotate its location, alleles, classification, and effects on individual transcripts predicted for a gene model."
      ],
      "text/plain": [
       "<IPython.core.display.Markdown object>"
      ]
     },
     "metadata": {},
     "output_type": "display_data"
    },
    {
     "data": {
      "text/markdown": [
       " **It was produced in the context of** Rare Coding Variants in ANGPTL6 Are Associated with Familial Forms of Intracranial Aneurysm"
      ],
      "text/plain": [
       "<IPython.core.display.Markdown object>"
      ]
     },
     "metadata": {},
     "output_type": "display_data"
    },
    {
     "data": {
      "text/markdown": [
       "The file `Samples/Sample1/BAM/Sample1.merged.bam` **results from tool** Picard **which** Analyse a genetic variation, for example to annotate its location, alleles, classification, and effects on individual transcripts predicted for a gene model."
      ],
      "text/plain": [
       "<IPython.core.display.Markdown object>"
      ]
     },
     "metadata": {},
     "output_type": "display_data"
    },
    {
     "data": {
      "text/markdown": [
       " **It was produced in the context of** Rare Coding Variants in ANGPTL6 Are Associated with Familial Forms of Intracranial Aneurysm"
      ],
      "text/plain": [
       "<IPython.core.display.Markdown object>"
      ]
     },
     "metadata": {},
     "output_type": "display_data"
    },
    {
     "data": {
      "text/markdown": [
       "The file `VCF/hapcaller.recal.combined.vcf.gz` **results from tool** gatk2_variant_combine-IP **which** Merge two or more (typically overlapping) molecular sequences."
      ],
      "text/plain": [
       "<IPython.core.display.Markdown object>"
      ]
     },
     "metadata": {},
     "output_type": "display_data"
    },
    {
     "data": {
      "text/markdown": [
       " **It was produced in the context of** Rare Coding Variants in ANGPTL6 Are Associated with Familial Forms of Intracranial Aneurysm"
      ],
      "text/plain": [
       "<IPython.core.display.Markdown object>"
      ]
     },
     "metadata": {},
     "output_type": "display_data"
    },
    {
     "data": {
      "text/markdown": [
       "The file `VCF/hapcaller.recal.combined.vcf.gz` **results from tool** gatk2_variant_combine-IP **which** Merge two or more (typically overlapping) molecular sequences."
      ],
      "text/plain": [
       "<IPython.core.display.Markdown object>"
      ]
     },
     "metadata": {},
     "output_type": "display_data"
    },
    {
     "data": {
      "text/markdown": [
       " **It was produced in the context of** Rare Coding Variants in ANGPTL6 Are Associated with Familial Forms of Intracranial Aneurysm"
      ],
      "text/plain": [
       "<IPython.core.display.Markdown object>"
      ]
     },
     "metadata": {},
     "output_type": "display_data"
    },
    {
     "data": {
      "text/markdown": [
       "The file `VCF/hapcaller.recal.combined.annot.gnomad.vcf.gz.tbi` **results from tool** gatk2_variant_annotator-IP **which** Predict the effect or function of an individual single nucleotide polymorphism (SNP)."
      ],
      "text/plain": [
       "<IPython.core.display.Markdown object>"
      ]
     },
     "metadata": {},
     "output_type": "display_data"
    },
    {
     "data": {
      "text/markdown": [
       " **It was produced in the context of** Rare Coding Variants in ANGPTL6 Are Associated with Familial Forms of Intracranial Aneurysm"
      ],
      "text/plain": [
       "<IPython.core.display.Markdown object>"
      ]
     },
     "metadata": {},
     "output_type": "display_data"
    },
    {
     "data": {
      "text/markdown": [
       "The file `VCF/hapcaller.recal.combined.annot.gnomad.vcf.gz.tbi` **results from tool** gatk2_variant_annotator-IP **which** Predict the effect or function of an individual single nucleotide polymorphism (SNP)."
      ],
      "text/plain": [
       "<IPython.core.display.Markdown object>"
      ]
     },
     "metadata": {},
     "output_type": "display_data"
    },
    {
     "data": {
      "text/markdown": [
       " **It was produced in the context of** Rare Coding Variants in ANGPTL6 Are Associated with Familial Forms of Intracranial Aneurysm"
      ],
      "text/plain": [
       "<IPython.core.display.Markdown object>"
      ]
     },
     "metadata": {},
     "output_type": "display_data"
    },
    {
     "data": {
      "text/markdown": [
       "The file `VCF/hapcaller.snv.recal.select.vcf.gz` **results from tool** gatk2_variant_select-IP **which** Identify and map genomic alterations, including single nucleotide polymorphisms, short indels and structural variants, in a genome sequence."
      ],
      "text/plain": [
       "<IPython.core.display.Markdown object>"
      ]
     },
     "metadata": {},
     "output_type": "display_data"
    },
    {
     "data": {
      "text/markdown": [
       " **It was produced in the context of** Rare Coding Variants in ANGPTL6 Are Associated with Familial Forms of Intracranial Aneurysm"
      ],
      "text/plain": [
       "<IPython.core.display.Markdown object>"
      ]
     },
     "metadata": {},
     "output_type": "display_data"
    },
    {
     "data": {
      "text/markdown": [
       "The file `VCF/hapcaller.snv.recal.select.vcf.gz` **results from tool** gatk2_variant_select-IP **which** Identify and map genomic alterations, including single nucleotide polymorphisms, short indels and structural variants, in a genome sequence."
      ],
      "text/plain": [
       "<IPython.core.display.Markdown object>"
      ]
     },
     "metadata": {},
     "output_type": "display_data"
    },
    {
     "data": {
      "text/markdown": [
       " **It was produced in the context of** Rare Coding Variants in ANGPTL6 Are Associated with Familial Forms of Intracranial Aneurysm"
      ],
      "text/plain": [
       "<IPython.core.display.Markdown object>"
      ]
     },
     "metadata": {},
     "output_type": "display_data"
    },
    {
     "data": {
      "text/markdown": [
       "The file `Samples/Sample1/BAM/Sample1.merged.bai` **results from tool** Picard **which** Analyse a genetic variation, for example to annotate its location, alleles, classification, and effects on individual transcripts predicted for a gene model."
      ],
      "text/plain": [
       "<IPython.core.display.Markdown object>"
      ]
     },
     "metadata": {},
     "output_type": "display_data"
    },
    {
     "data": {
      "text/markdown": [
       " **It was produced in the context of** Rare Coding Variants in ANGPTL6 Are Associated with Familial Forms of Intracranial Aneurysm"
      ],
      "text/plain": [
       "<IPython.core.display.Markdown object>"
      ]
     },
     "metadata": {},
     "output_type": "display_data"
    },
    {
     "data": {
      "text/markdown": [
       "The file `Samples/Sample1/BAM/Sample1.merged.bai` **results from tool** Picard **which** Analyse a genetic variation, for example to annotate its location, alleles, classification, and effects on individual transcripts predicted for a gene model."
      ],
      "text/plain": [
       "<IPython.core.display.Markdown object>"
      ]
     },
     "metadata": {},
     "output_type": "display_data"
    },
    {
     "data": {
      "text/markdown": [
       " **It was produced in the context of** Rare Coding Variants in ANGPTL6 Are Associated with Familial Forms of Intracranial Aneurysm"
      ],
      "text/plain": [
       "<IPython.core.display.Markdown object>"
      ]
     },
     "metadata": {},
     "output_type": "display_data"
    },
    {
     "data": {
      "text/markdown": [
       "The file `VCF/hapcaller.recal.combined.vcf.gz.tbi` **results from tool** gatk2_variant_combine-IP **which** Merge two or more (typically overlapping) molecular sequences."
      ],
      "text/plain": [
       "<IPython.core.display.Markdown object>"
      ]
     },
     "metadata": {},
     "output_type": "display_data"
    },
    {
     "data": {
      "text/markdown": [
       " **It was produced in the context of** Rare Coding Variants in ANGPTL6 Are Associated with Familial Forms of Intracranial Aneurysm"
      ],
      "text/plain": [
       "<IPython.core.display.Markdown object>"
      ]
     },
     "metadata": {},
     "output_type": "display_data"
    },
    {
     "data": {
      "text/markdown": [
       "The file `VCF/hapcaller.recal.combined.vcf.gz.tbi` **results from tool** gatk2_variant_combine-IP **which** Merge two or more (typically overlapping) molecular sequences."
      ],
      "text/plain": [
       "<IPython.core.display.Markdown object>"
      ]
     },
     "metadata": {},
     "output_type": "display_data"
    },
    {
     "data": {
      "text/markdown": [
       " **It was produced in the context of** Rare Coding Variants in ANGPTL6 Are Associated with Familial Forms of Intracranial Aneurysm"
      ],
      "text/plain": [
       "<IPython.core.display.Markdown object>"
      ]
     },
     "metadata": {},
     "output_type": "display_data"
    },
    {
     "data": {
      "text/markdown": [
       "The file `VCF/hapcaller.indel.recal.filter.vcf.gz` **results from tool** gatk2_variant_filtration-IP **which** Analyse a genetic variation, for example to annotate its location, alleles, classification, and effects on individual transcripts predicted for a gene model."
      ],
      "text/plain": [
       "<IPython.core.display.Markdown object>"
      ]
     },
     "metadata": {},
     "output_type": "display_data"
    },
    {
     "data": {
      "text/markdown": [
       " **It was produced in the context of** Rare Coding Variants in ANGPTL6 Are Associated with Familial Forms of Intracranial Aneurysm"
      ],
      "text/plain": [
       "<IPython.core.display.Markdown object>"
      ]
     },
     "metadata": {},
     "output_type": "display_data"
    },
    {
     "data": {
      "text/markdown": [
       "The file `VCF/hapcaller.indel.recal.filter.vcf.gz` **results from tool** gatk2_variant_filtration-IP **which** Filter a set of files or data items according to some property."
      ],
      "text/plain": [
       "<IPython.core.display.Markdown object>"
      ]
     },
     "metadata": {},
     "output_type": "display_data"
    },
    {
     "data": {
      "text/markdown": [
       " **It was produced in the context of** Rare Coding Variants in ANGPTL6 Are Associated with Familial Forms of Intracranial Aneurysm"
      ],
      "text/plain": [
       "<IPython.core.display.Markdown object>"
      ]
     },
     "metadata": {},
     "output_type": "display_data"
    },
    {
     "data": {
      "text/markdown": [
       "The file `VCF/hapcaller.indel.recal.filter.vcf.gz` **results from tool** gatk2_variant_filtration-IP **which** Analyse a genetic variation, for example to annotate its location, alleles, classification, and effects on individual transcripts predicted for a gene model."
      ],
      "text/plain": [
       "<IPython.core.display.Markdown object>"
      ]
     },
     "metadata": {},
     "output_type": "display_data"
    },
    {
     "data": {
      "text/markdown": [
       " **It was produced in the context of** Rare Coding Variants in ANGPTL6 Are Associated with Familial Forms of Intracranial Aneurysm"
      ],
      "text/plain": [
       "<IPython.core.display.Markdown object>"
      ]
     },
     "metadata": {},
     "output_type": "display_data"
    },
    {
     "data": {
      "text/markdown": [
       "The file `VCF/hapcaller.indel.recal.filter.vcf.gz` **results from tool** gatk2_variant_filtration-IP **which** Filter a set of files or data items according to some property."
      ],
      "text/plain": [
       "<IPython.core.display.Markdown object>"
      ]
     },
     "metadata": {},
     "output_type": "display_data"
    },
    {
     "data": {
      "text/markdown": [
       " **It was produced in the context of** Rare Coding Variants in ANGPTL6 Are Associated with Familial Forms of Intracranial Aneurysm"
      ],
      "text/plain": [
       "<IPython.core.display.Markdown object>"
      ]
     },
     "metadata": {},
     "output_type": "display_data"
    },
    {
     "data": {
      "text/markdown": [
       "The file `VCF/hapcaller.combined.g.vcf.gz.tbi` **results from tool** gatk2_variant_combine-IP **which** Merge two or more (typically overlapping) molecular sequences."
      ],
      "text/plain": [
       "<IPython.core.display.Markdown object>"
      ]
     },
     "metadata": {},
     "output_type": "display_data"
    },
    {
     "data": {
      "text/markdown": [
       " **It was produced in the context of** Rare Coding Variants in ANGPTL6 Are Associated with Familial Forms of Intracranial Aneurysm"
      ],
      "text/plain": [
       "<IPython.core.display.Markdown object>"
      ]
     },
     "metadata": {},
     "output_type": "display_data"
    },
    {
     "data": {
      "text/markdown": [
       "The file `VCF/hapcaller.combined.g.vcf.gz.tbi` **results from tool** gatk2_variant_combine-IP **which** Merge two or more (typically overlapping) molecular sequences."
      ],
      "text/plain": [
       "<IPython.core.display.Markdown object>"
      ]
     },
     "metadata": {},
     "output_type": "display_data"
    },
    {
     "data": {
      "text/markdown": [
       " **It was produced in the context of** Rare Coding Variants in ANGPTL6 Are Associated with Familial Forms of Intracranial Aneurysm"
      ],
      "text/plain": [
       "<IPython.core.display.Markdown object>"
      ]
     },
     "metadata": {},
     "output_type": "display_data"
    },
    {
     "data": {
      "text/markdown": [
       "The file `Samples/Sample1/BAM/Sample1.final.bai` **results from tool** gatk2_print_reads-IP **which** Counting and summarising the number of short sequence reads that map to genomic features."
      ],
      "text/plain": [
       "<IPython.core.display.Markdown object>"
      ]
     },
     "metadata": {},
     "output_type": "display_data"
    },
    {
     "data": {
      "text/markdown": [
       " **It was produced in the context of** Rare Coding Variants in ANGPTL6 Are Associated with Familial Forms of Intracranial Aneurysm"
      ],
      "text/plain": [
       "<IPython.core.display.Markdown object>"
      ]
     },
     "metadata": {},
     "output_type": "display_data"
    },
    {
     "data": {
      "text/markdown": [
       "The file `Samples/Sample1/BAM/Sample1.final.bai` **results from tool** gatk2_print_reads-IP **which** Counting and summarising the number of short sequence reads that map to genomic features."
      ],
      "text/plain": [
       "<IPython.core.display.Markdown object>"
      ]
     },
     "metadata": {},
     "output_type": "display_data"
    },
    {
     "data": {
      "text/markdown": [
       " **It was produced in the context of** Rare Coding Variants in ANGPTL6 Are Associated with Familial Forms of Intracranial Aneurysm"
      ],
      "text/plain": [
       "<IPython.core.display.Markdown object>"
      ]
     },
     "metadata": {},
     "output_type": "display_data"
    },
    {
     "data": {
      "text/markdown": [
       "The file `Samples/Sample1/BAM/Sample1.realign.bam` **results from tool** gatk2_indel_realigner-IP **which** Locally align two or more molecular sequences."
      ],
      "text/plain": [
       "<IPython.core.display.Markdown object>"
      ]
     },
     "metadata": {},
     "output_type": "display_data"
    },
    {
     "data": {
      "text/markdown": [
       " **It was produced in the context of** Rare Coding Variants in ANGPTL6 Are Associated with Familial Forms of Intracranial Aneurysm"
      ],
      "text/plain": [
       "<IPython.core.display.Markdown object>"
      ]
     },
     "metadata": {},
     "output_type": "display_data"
    },
    {
     "data": {
      "text/markdown": [
       "The file `Samples/Sample1/BAM/Sample1.realign.bam` **results from tool** gatk2_indel_realigner-IP **which** Locally align two or more molecular sequences."
      ],
      "text/plain": [
       "<IPython.core.display.Markdown object>"
      ]
     },
     "metadata": {},
     "output_type": "display_data"
    },
    {
     "data": {
      "text/markdown": [
       " **It was produced in the context of** Rare Coding Variants in ANGPTL6 Are Associated with Familial Forms of Intracranial Aneurysm"
      ],
      "text/plain": [
       "<IPython.core.display.Markdown object>"
      ]
     },
     "metadata": {},
     "output_type": "display_data"
    },
    {
     "data": {
      "text/markdown": [
       "The file `Samples/Sample1/BAM/Sample1.recal.table` **results from tool** gatk2_base_recalibrator-IP **which** Analyse one or more known molecular sequences."
      ],
      "text/plain": [
       "<IPython.core.display.Markdown object>"
      ]
     },
     "metadata": {},
     "output_type": "display_data"
    },
    {
     "data": {
      "text/markdown": [
       " **It was produced in the context of** Rare Coding Variants in ANGPTL6 Are Associated with Familial Forms of Intracranial Aneurysm"
      ],
      "text/plain": [
       "<IPython.core.display.Markdown object>"
      ]
     },
     "metadata": {},
     "output_type": "display_data"
    },
    {
     "data": {
      "text/markdown": [
       "The file `Samples/Sample1/BAM/Sample1.recal.table` **results from tool** gatk2_base_recalibrator-IP **which** Analyse one or more known molecular sequences."
      ],
      "text/plain": [
       "<IPython.core.display.Markdown object>"
      ]
     },
     "metadata": {},
     "output_type": "display_data"
    },
    {
     "data": {
      "text/markdown": [
       " **It was produced in the context of** Rare Coding Variants in ANGPTL6 Are Associated with Familial Forms of Intracranial Aneurysm"
      ],
      "text/plain": [
       "<IPython.core.display.Markdown object>"
      ]
     },
     "metadata": {},
     "output_type": "display_data"
    },
    {
     "data": {
      "text/markdown": [
       "The file `VCF/hapcaller.snv.recal.select.vcf.gz.tbi` **results from tool** gatk2_variant_select-IP **which** Identify and map genomic alterations, including single nucleotide polymorphisms, short indels and structural variants, in a genome sequence."
      ],
      "text/plain": [
       "<IPython.core.display.Markdown object>"
      ]
     },
     "metadata": {},
     "output_type": "display_data"
    },
    {
     "data": {
      "text/markdown": [
       " **It was produced in the context of** Rare Coding Variants in ANGPTL6 Are Associated with Familial Forms of Intracranial Aneurysm"
      ],
      "text/plain": [
       "<IPython.core.display.Markdown object>"
      ]
     },
     "metadata": {},
     "output_type": "display_data"
    },
    {
     "data": {
      "text/markdown": [
       "The file `VCF/hapcaller.snv.recal.select.vcf.gz.tbi` **results from tool** gatk2_variant_select-IP **which** Identify and map genomic alterations, including single nucleotide polymorphisms, short indels and structural variants, in a genome sequence."
      ],
      "text/plain": [
       "<IPython.core.display.Markdown object>"
      ]
     },
     "metadata": {},
     "output_type": "display_data"
    },
    {
     "data": {
      "text/markdown": [
       " **It was produced in the context of** Rare Coding Variants in ANGPTL6 Are Associated with Familial Forms of Intracranial Aneurysm"
      ],
      "text/plain": [
       "<IPython.core.display.Markdown object>"
      ]
     },
     "metadata": {},
     "output_type": "display_data"
    },
    {
     "data": {
      "text/markdown": [
       "The file `Samples/Sample1/BAM/Sample1.p1.aligned.sam` **results from tool** BWA (cloudIFB) **which** Construct some data entity."
      ],
      "text/plain": [
       "<IPython.core.display.Markdown object>"
      ]
     },
     "metadata": {},
     "output_type": "display_data"
    },
    {
     "data": {
      "text/markdown": [
       " **It was produced in the context of** Rare Coding Variants in ANGPTL6 Are Associated with Familial Forms of Intracranial Aneurysm"
      ],
      "text/plain": [
       "<IPython.core.display.Markdown object>"
      ]
     },
     "metadata": {},
     "output_type": "display_data"
    },
    {
     "data": {
      "text/markdown": [
       "The file `Samples/Sample1/BAM/Sample1.p1.aligned.sam` **results from tool** BWA (cloudIFB) **which** Generate an index of a genome sequence."
      ],
      "text/plain": [
       "<IPython.core.display.Markdown object>"
      ]
     },
     "metadata": {},
     "output_type": "display_data"
    },
    {
     "data": {
      "text/markdown": [
       " **It was produced in the context of** Rare Coding Variants in ANGPTL6 Are Associated with Familial Forms of Intracranial Aneurysm"
      ],
      "text/plain": [
       "<IPython.core.display.Markdown object>"
      ]
     },
     "metadata": {},
     "output_type": "display_data"
    },
    {
     "data": {
      "text/markdown": [
       "The file `Samples/Sample1/BAM/Sample1.p1.aligned.sam` **results from tool** BWA (cloudIFB) **which** Align (identify equivalent sites within) molecular sequences."
      ],
      "text/plain": [
       "<IPython.core.display.Markdown object>"
      ]
     },
     "metadata": {},
     "output_type": "display_data"
    },
    {
     "data": {
      "text/markdown": [
       " **It was produced in the context of** Rare Coding Variants in ANGPTL6 Are Associated with Familial Forms of Intracranial Aneurysm"
      ],
      "text/plain": [
       "<IPython.core.display.Markdown object>"
      ]
     },
     "metadata": {},
     "output_type": "display_data"
    },
    {
     "data": {
      "text/markdown": [
       "The file `Samples/Sample1/BAM/Sample1.p1.aligned.sam` **results from tool** BWA (cloudIFB) **which** Align short oligonucleotide sequences (reads) to a larger (genomic) sequence."
      ],
      "text/plain": [
       "<IPython.core.display.Markdown object>"
      ]
     },
     "metadata": {},
     "output_type": "display_data"
    },
    {
     "data": {
      "text/markdown": [
       " **It was produced in the context of** Rare Coding Variants in ANGPTL6 Are Associated with Familial Forms of Intracranial Aneurysm"
      ],
      "text/plain": [
       "<IPython.core.display.Markdown object>"
      ]
     },
     "metadata": {},
     "output_type": "display_data"
    },
    {
     "data": {
      "text/markdown": [
       "The file `Samples/Sample1/BAM/Sample1.p1.aligned.sam` **results from tool** BWA (cloudIFB) **which** Construct some data entity."
      ],
      "text/plain": [
       "<IPython.core.display.Markdown object>"
      ]
     },
     "metadata": {},
     "output_type": "display_data"
    },
    {
     "data": {
      "text/markdown": [
       " **It was produced in the context of** Rare Coding Variants in ANGPTL6 Are Associated with Familial Forms of Intracranial Aneurysm"
      ],
      "text/plain": [
       "<IPython.core.display.Markdown object>"
      ]
     },
     "metadata": {},
     "output_type": "display_data"
    },
    {
     "data": {
      "text/markdown": [
       "The file `Samples/Sample1/BAM/Sample1.p1.aligned.sam` **results from tool** BWA (cloudIFB) **which** Generate an index of a genome sequence."
      ],
      "text/plain": [
       "<IPython.core.display.Markdown object>"
      ]
     },
     "metadata": {},
     "output_type": "display_data"
    },
    {
     "data": {
      "text/markdown": [
       " **It was produced in the context of** Rare Coding Variants in ANGPTL6 Are Associated with Familial Forms of Intracranial Aneurysm"
      ],
      "text/plain": [
       "<IPython.core.display.Markdown object>"
      ]
     },
     "metadata": {},
     "output_type": "display_data"
    },
    {
     "data": {
      "text/markdown": [
       "The file `Samples/Sample1/BAM/Sample1.p1.aligned.sam` **results from tool** BWA (cloudIFB) **which** Align (identify equivalent sites within) molecular sequences."
      ],
      "text/plain": [
       "<IPython.core.display.Markdown object>"
      ]
     },
     "metadata": {},
     "output_type": "display_data"
    },
    {
     "data": {
      "text/markdown": [
       " **It was produced in the context of** Rare Coding Variants in ANGPTL6 Are Associated with Familial Forms of Intracranial Aneurysm"
      ],
      "text/plain": [
       "<IPython.core.display.Markdown object>"
      ]
     },
     "metadata": {},
     "output_type": "display_data"
    },
    {
     "data": {
      "text/markdown": [
       "The file `Samples/Sample1/BAM/Sample1.p1.aligned.sam` **results from tool** BWA (cloudIFB) **which** Align short oligonucleotide sequences (reads) to a larger (genomic) sequence."
      ],
      "text/plain": [
       "<IPython.core.display.Markdown object>"
      ]
     },
     "metadata": {},
     "output_type": "display_data"
    },
    {
     "data": {
      "text/markdown": [
       " **It was produced in the context of** Rare Coding Variants in ANGPTL6 Are Associated with Familial Forms of Intracranial Aneurysm"
      ],
      "text/plain": [
       "<IPython.core.display.Markdown object>"
      ]
     },
     "metadata": {},
     "output_type": "display_data"
    },
    {
     "data": {
      "text/markdown": [
       "The file `VCF/hapcaller.indel.recal.filter.vcf.gz.tbi` **results from tool** gatk2_variant_filtration-IP **which** Analyse a genetic variation, for example to annotate its location, alleles, classification, and effects on individual transcripts predicted for a gene model."
      ],
      "text/plain": [
       "<IPython.core.display.Markdown object>"
      ]
     },
     "metadata": {},
     "output_type": "display_data"
    },
    {
     "data": {
      "text/markdown": [
       " **It was produced in the context of** Rare Coding Variants in ANGPTL6 Are Associated with Familial Forms of Intracranial Aneurysm"
      ],
      "text/plain": [
       "<IPython.core.display.Markdown object>"
      ]
     },
     "metadata": {},
     "output_type": "display_data"
    },
    {
     "data": {
      "text/markdown": [
       "The file `VCF/hapcaller.indel.recal.filter.vcf.gz.tbi` **results from tool** gatk2_variant_filtration-IP **which** Filter a set of files or data items according to some property."
      ],
      "text/plain": [
       "<IPython.core.display.Markdown object>"
      ]
     },
     "metadata": {},
     "output_type": "display_data"
    },
    {
     "data": {
      "text/markdown": [
       " **It was produced in the context of** Rare Coding Variants in ANGPTL6 Are Associated with Familial Forms of Intracranial Aneurysm"
      ],
      "text/plain": [
       "<IPython.core.display.Markdown object>"
      ]
     },
     "metadata": {},
     "output_type": "display_data"
    },
    {
     "data": {
      "text/markdown": [
       "The file `VCF/hapcaller.indel.recal.filter.vcf.gz.tbi` **results from tool** gatk2_variant_filtration-IP **which** Analyse a genetic variation, for example to annotate its location, alleles, classification, and effects on individual transcripts predicted for a gene model."
      ],
      "text/plain": [
       "<IPython.core.display.Markdown object>"
      ]
     },
     "metadata": {},
     "output_type": "display_data"
    },
    {
     "data": {
      "text/markdown": [
       " **It was produced in the context of** Rare Coding Variants in ANGPTL6 Are Associated with Familial Forms of Intracranial Aneurysm"
      ],
      "text/plain": [
       "<IPython.core.display.Markdown object>"
      ]
     },
     "metadata": {},
     "output_type": "display_data"
    },
    {
     "data": {
      "text/markdown": [
       "The file `VCF/hapcaller.indel.recal.filter.vcf.gz.tbi` **results from tool** gatk2_variant_filtration-IP **which** Filter a set of files or data items according to some property."
      ],
      "text/plain": [
       "<IPython.core.display.Markdown object>"
      ]
     },
     "metadata": {},
     "output_type": "display_data"
    },
    {
     "data": {
      "text/markdown": [
       " **It was produced in the context of** Rare Coding Variants in ANGPTL6 Are Associated with Familial Forms of Intracranial Aneurysm"
      ],
      "text/plain": [
       "<IPython.core.display.Markdown object>"
      ]
     },
     "metadata": {},
     "output_type": "display_data"
    },
    {
     "data": {
      "text/markdown": [
       "The file `Samples/Sample1/VCF/Sample1.hapcaller.g.vcf.idx` **results from tool** gatk2_haplotype_caller-IP **which** Identify and map genomic alterations, including single nucleotide polymorphisms, short indels and structural variants, in a genome sequence."
      ],
      "text/plain": [
       "<IPython.core.display.Markdown object>"
      ]
     },
     "metadata": {},
     "output_type": "display_data"
    },
    {
     "data": {
      "text/markdown": [
       " **It was produced in the context of** Rare Coding Variants in ANGPTL6 Are Associated with Familial Forms of Intracranial Aneurysm"
      ],
      "text/plain": [
       "<IPython.core.display.Markdown object>"
      ]
     },
     "metadata": {},
     "output_type": "display_data"
    },
    {
     "data": {
      "text/markdown": [
       "The file `Samples/Sample1/VCF/Sample1.hapcaller.g.vcf.idx` **results from tool** gatk2_haplotype_caller-IP **which** Identify and map genomic alterations, including single nucleotide polymorphisms, short indels and structural variants, in a genome sequence."
      ],
      "text/plain": [
       "<IPython.core.display.Markdown object>"
      ]
     },
     "metadata": {},
     "output_type": "display_data"
    },
    {
     "data": {
      "text/markdown": [
       " **It was produced in the context of** Rare Coding Variants in ANGPTL6 Are Associated with Familial Forms of Intracranial Aneurysm"
      ],
      "text/plain": [
       "<IPython.core.display.Markdown object>"
      ]
     },
     "metadata": {},
     "output_type": "display_data"
    },
    {
     "data": {
      "text/markdown": [
       "The file `BED/capture.extended1000.bed` **results from tool** bedtools_mergebedgraph-IP **which** Merge two or more (typically overlapping) molecular sequences."
      ],
      "text/plain": [
       "<IPython.core.display.Markdown object>"
      ]
     },
     "metadata": {},
     "output_type": "display_data"
    },
    {
     "data": {
      "text/markdown": [
       " **It was produced in the context of** Rare Coding Variants in ANGPTL6 Are Associated with Familial Forms of Intracranial Aneurysm"
      ],
      "text/plain": [
       "<IPython.core.display.Markdown object>"
      ]
     },
     "metadata": {},
     "output_type": "display_data"
    },
    {
     "data": {
      "text/markdown": [
       "The file `BED/capture.extended1000.bed` **results from tool** bedtools_mergebedgraph-IP **which** Merge two or more (typically overlapping) molecular sequences."
      ],
      "text/plain": [
       "<IPython.core.display.Markdown object>"
      ]
     },
     "metadata": {},
     "output_type": "display_data"
    },
    {
     "data": {
      "text/markdown": [
       " **It was produced in the context of** Rare Coding Variants in ANGPTL6 Are Associated with Familial Forms of Intracranial Aneurysm"
      ],
      "text/plain": [
       "<IPython.core.display.Markdown object>"
      ]
     },
     "metadata": {},
     "output_type": "display_data"
    },
    {
     "data": {
      "text/markdown": [
       "The file `Samples/Sample1/QC/Sample1.markdup.metrics` **results from tool** MarkDuplicates (IP) **which** Predict, recognise and identify positional features in molecular sequences such as key functional sites or regions."
      ],
      "text/plain": [
       "<IPython.core.display.Markdown object>"
      ]
     },
     "metadata": {},
     "output_type": "display_data"
    },
    {
     "data": {
      "text/markdown": [
       " **It was produced in the context of** Rare Coding Variants in ANGPTL6 Are Associated with Familial Forms of Intracranial Aneurysm"
      ],
      "text/plain": [
       "<IPython.core.display.Markdown object>"
      ]
     },
     "metadata": {},
     "output_type": "display_data"
    },
    {
     "data": {
      "text/markdown": [
       "The file `Samples/Sample1/QC/Sample1.markdup.metrics` **results from tool** MarkDuplicates (IP) **which** Predict, recognise and identify positional features in molecular sequences such as key functional sites or regions."
      ],
      "text/plain": [
       "<IPython.core.display.Markdown object>"
      ]
     },
     "metadata": {},
     "output_type": "display_data"
    },
    {
     "data": {
      "text/markdown": [
       " **It was produced in the context of** Rare Coding Variants in ANGPTL6 Are Associated with Familial Forms of Intracranial Aneurysm"
      ],
      "text/plain": [
       "<IPython.core.display.Markdown object>"
      ]
     },
     "metadata": {},
     "output_type": "display_data"
    },
    {
     "data": {
      "text/markdown": [
       "The file `BED/capture.bed` **results from tool** bedtools_mergebedgraph-IP **which** Merge two or more (typically overlapping) molecular sequences."
      ],
      "text/plain": [
       "<IPython.core.display.Markdown object>"
      ]
     },
     "metadata": {},
     "output_type": "display_data"
    },
    {
     "data": {
      "text/markdown": [
       " **It was produced in the context of** Rare Coding Variants in ANGPTL6 Are Associated with Familial Forms of Intracranial Aneurysm"
      ],
      "text/plain": [
       "<IPython.core.display.Markdown object>"
      ]
     },
     "metadata": {},
     "output_type": "display_data"
    },
    {
     "data": {
      "text/markdown": [
       "The file `BED/capture.bed` **results from tool** bedtools_mergebedgraph-IP **which** Merge two or more (typically overlapping) molecular sequences."
      ],
      "text/plain": [
       "<IPython.core.display.Markdown object>"
      ]
     },
     "metadata": {},
     "output_type": "display_data"
    },
    {
     "data": {
      "text/markdown": [
       " **It was produced in the context of** Rare Coding Variants in ANGPTL6 Are Associated with Familial Forms of Intracranial Aneurysm"
      ],
      "text/plain": [
       "<IPython.core.display.Markdown object>"
      ]
     },
     "metadata": {},
     "output_type": "display_data"
    },
    {
     "data": {
      "text/markdown": [
       "The file `Samples/Sample1/BAM/Sample1.p1.sorted.bam` **results from tool** samtools_sort-IP **which** Reformat a file of data (or equivalent entity in memory)."
      ],
      "text/plain": [
       "<IPython.core.display.Markdown object>"
      ]
     },
     "metadata": {},
     "output_type": "display_data"
    },
    {
     "data": {
      "text/markdown": [
       " **It was produced in the context of** Rare Coding Variants in ANGPTL6 Are Associated with Familial Forms of Intracranial Aneurysm"
      ],
      "text/plain": [
       "<IPython.core.display.Markdown object>"
      ]
     },
     "metadata": {},
     "output_type": "display_data"
    },
    {
     "data": {
      "text/markdown": [
       "The file `Samples/Sample1/BAM/Sample1.p1.sorted.bam` **results from tool** samtools_sort-IP **which** Reformat a file of data (or equivalent entity in memory)."
      ],
      "text/plain": [
       "<IPython.core.display.Markdown object>"
      ]
     },
     "metadata": {},
     "output_type": "display_data"
    },
    {
     "data": {
      "text/markdown": [
       " **It was produced in the context of** Rare Coding Variants in ANGPTL6 Are Associated with Familial Forms of Intracranial Aneurysm"
      ],
      "text/plain": [
       "<IPython.core.display.Markdown object>"
      ]
     },
     "metadata": {},
     "output_type": "display_data"
    },
    {
     "data": {
      "text/markdown": [
       "The file `Samples/Sample1/BAM/Sample1.final.bam` **results from tool** gatk2_print_reads-IP **which** Counting and summarising the number of short sequence reads that map to genomic features."
      ],
      "text/plain": [
       "<IPython.core.display.Markdown object>"
      ]
     },
     "metadata": {},
     "output_type": "display_data"
    },
    {
     "data": {
      "text/markdown": [
       " **It was produced in the context of** Rare Coding Variants in ANGPTL6 Are Associated with Familial Forms of Intracranial Aneurysm"
      ],
      "text/plain": [
       "<IPython.core.display.Markdown object>"
      ]
     },
     "metadata": {},
     "output_type": "display_data"
    },
    {
     "data": {
      "text/markdown": [
       "The file `Samples/Sample1/BAM/Sample1.final.bam` **results from tool** gatk2_print_reads-IP **which** Counting and summarising the number of short sequence reads that map to genomic features."
      ],
      "text/plain": [
       "<IPython.core.display.Markdown object>"
      ]
     },
     "metadata": {},
     "output_type": "display_data"
    },
    {
     "data": {
      "text/markdown": [
       " **It was produced in the context of** Rare Coding Variants in ANGPTL6 Are Associated with Familial Forms of Intracranial Aneurysm"
      ],
      "text/plain": [
       "<IPython.core.display.Markdown object>"
      ]
     },
     "metadata": {},
     "output_type": "display_data"
    },
    {
     "data": {
      "text/markdown": [
       "The file `Samples/Sample1/VCF/Sample1.hapcaller.g.vcf` **results from tool** gatk2_haplotype_caller-IP **which** Identify and map genomic alterations, including single nucleotide polymorphisms, short indels and structural variants, in a genome sequence."
      ],
      "text/plain": [
       "<IPython.core.display.Markdown object>"
      ]
     },
     "metadata": {},
     "output_type": "display_data"
    },
    {
     "data": {
      "text/markdown": [
       " **It was produced in the context of** Rare Coding Variants in ANGPTL6 Are Associated with Familial Forms of Intracranial Aneurysm"
      ],
      "text/plain": [
       "<IPython.core.display.Markdown object>"
      ]
     },
     "metadata": {},
     "output_type": "display_data"
    },
    {
     "data": {
      "text/markdown": [
       "The file `Samples/Sample1/VCF/Sample1.hapcaller.g.vcf` **results from tool** gatk2_haplotype_caller-IP **which** Identify and map genomic alterations, including single nucleotide polymorphisms, short indels and structural variants, in a genome sequence."
      ],
      "text/plain": [
       "<IPython.core.display.Markdown object>"
      ]
     },
     "metadata": {},
     "output_type": "display_data"
    },
    {
     "data": {
      "text/markdown": [
       " **It was produced in the context of** Rare Coding Variants in ANGPTL6 Are Associated with Familial Forms of Intracranial Aneurysm"
      ],
      "text/plain": [
       "<IPython.core.display.Markdown object>"
      ]
     },
     "metadata": {},
     "output_type": "display_data"
    },
    {
     "data": {
      "text/markdown": [
       "The file `VCF/hapcaller.genotyped.vcf.gz.tbi` **results from tool** gatk2_unified_genotyper-IP **which** Identify and map genomic alterations, including single nucleotide polymorphisms, short indels and structural variants, in a genome sequence."
      ],
      "text/plain": [
       "<IPython.core.display.Markdown object>"
      ]
     },
     "metadata": {},
     "output_type": "display_data"
    },
    {
     "data": {
      "text/markdown": [
       " **It was produced in the context of** Rare Coding Variants in ANGPTL6 Are Associated with Familial Forms of Intracranial Aneurysm"
      ],
      "text/plain": [
       "<IPython.core.display.Markdown object>"
      ]
     },
     "metadata": {},
     "output_type": "display_data"
    },
    {
     "data": {
      "text/markdown": [
       "The file `VCF/hapcaller.genotyped.vcf.gz.tbi` **results from tool** gatk2_unified_genotyper-IP **which** Identify insertion, deletion and duplication events from a sequence alignment."
      ],
      "text/plain": [
       "<IPython.core.display.Markdown object>"
      ]
     },
     "metadata": {},
     "output_type": "display_data"
    },
    {
     "data": {
      "text/markdown": [
       " **It was produced in the context of** Rare Coding Variants in ANGPTL6 Are Associated with Familial Forms of Intracranial Aneurysm"
      ],
      "text/plain": [
       "<IPython.core.display.Markdown object>"
      ]
     },
     "metadata": {},
     "output_type": "display_data"
    },
    {
     "data": {
      "text/markdown": [
       "The file `VCF/hapcaller.genotyped.vcf.gz.tbi` **results from tool** gatk2_unified_genotyper-IP **which** Identify and map genomic alterations, including single nucleotide polymorphisms, short indels and structural variants, in a genome sequence."
      ],
      "text/plain": [
       "<IPython.core.display.Markdown object>"
      ]
     },
     "metadata": {},
     "output_type": "display_data"
    },
    {
     "data": {
      "text/markdown": [
       " **It was produced in the context of** Rare Coding Variants in ANGPTL6 Are Associated with Familial Forms of Intracranial Aneurysm"
      ],
      "text/plain": [
       "<IPython.core.display.Markdown object>"
      ]
     },
     "metadata": {},
     "output_type": "display_data"
    },
    {
     "data": {
      "text/markdown": [
       "The file `VCF/hapcaller.genotyped.vcf.gz.tbi` **results from tool** gatk2_unified_genotyper-IP **which** Identify insertion, deletion and duplication events from a sequence alignment."
      ],
      "text/plain": [
       "<IPython.core.display.Markdown object>"
      ]
     },
     "metadata": {},
     "output_type": "display_data"
    },
    {
     "data": {
      "text/markdown": [
       " **It was produced in the context of** Rare Coding Variants in ANGPTL6 Are Associated with Familial Forms of Intracranial Aneurysm"
      ],
      "text/plain": [
       "<IPython.core.display.Markdown object>"
      ]
     },
     "metadata": {},
     "output_type": "display_data"
    },
    {
     "data": {
      "text/markdown": [
       "The file `Samples/Sample1/BAM/Sample1.markdup.bam` **results from tool** MarkDuplicates (IP) **which** Predict, recognise and identify positional features in molecular sequences such as key functional sites or regions."
      ],
      "text/plain": [
       "<IPython.core.display.Markdown object>"
      ]
     },
     "metadata": {},
     "output_type": "display_data"
    },
    {
     "data": {
      "text/markdown": [
       " **It was produced in the context of** Rare Coding Variants in ANGPTL6 Are Associated with Familial Forms of Intracranial Aneurysm"
      ],
      "text/plain": [
       "<IPython.core.display.Markdown object>"
      ]
     },
     "metadata": {},
     "output_type": "display_data"
    },
    {
     "data": {
      "text/markdown": [
       "The file `Samples/Sample1/BAM/Sample1.markdup.bam` **results from tool** MarkDuplicates (IP) **which** Predict, recognise and identify positional features in molecular sequences such as key functional sites or regions."
      ],
      "text/plain": [
       "<IPython.core.display.Markdown object>"
      ]
     },
     "metadata": {},
     "output_type": "display_data"
    },
    {
     "data": {
      "text/markdown": [
       " **It was produced in the context of** Rare Coding Variants in ANGPTL6 Are Associated with Familial Forms of Intracranial Aneurysm"
      ],
      "text/plain": [
       "<IPython.core.display.Markdown object>"
      ]
     },
     "metadata": {},
     "output_type": "display_data"
    },
    {
     "data": {
      "text/markdown": [
       "The file `Samples/Sample1/BAM/Sample1.realign.intervals` **results from tool** gatk2_realigner_target_creator-IP **which** Locally align two or more molecular sequences."
      ],
      "text/plain": [
       "<IPython.core.display.Markdown object>"
      ]
     },
     "metadata": {},
     "output_type": "display_data"
    },
    {
     "data": {
      "text/markdown": [
       " **It was produced in the context of** Rare Coding Variants in ANGPTL6 Are Associated with Familial Forms of Intracranial Aneurysm"
      ],
      "text/plain": [
       "<IPython.core.display.Markdown object>"
      ]
     },
     "metadata": {},
     "output_type": "display_data"
    },
    {
     "data": {
      "text/markdown": [
       "The file `Samples/Sample1/BAM/Sample1.realign.intervals` **results from tool** gatk2_realigner_target_creator-IP **which** Locally align two or more molecular sequences."
      ],
      "text/plain": [
       "<IPython.core.display.Markdown object>"
      ]
     },
     "metadata": {},
     "output_type": "display_data"
    },
    {
     "data": {
      "text/markdown": [
       " **It was produced in the context of** Rare Coding Variants in ANGPTL6 Are Associated with Familial Forms of Intracranial Aneurysm"
      ],
      "text/plain": [
       "<IPython.core.display.Markdown object>"
      ]
     },
     "metadata": {},
     "output_type": "display_data"
    },
    {
     "data": {
      "text/markdown": [
       "The file `VCF/hapcaller.snv.recal.filter.vcf.gz` **results from tool** gatk2_variant_filtration-IP **which** Analyse a genetic variation, for example to annotate its location, alleles, classification, and effects on individual transcripts predicted for a gene model."
      ],
      "text/plain": [
       "<IPython.core.display.Markdown object>"
      ]
     },
     "metadata": {},
     "output_type": "display_data"
    },
    {
     "data": {
      "text/markdown": [
       " **It was produced in the context of** Rare Coding Variants in ANGPTL6 Are Associated with Familial Forms of Intracranial Aneurysm"
      ],
      "text/plain": [
       "<IPython.core.display.Markdown object>"
      ]
     },
     "metadata": {},
     "output_type": "display_data"
    },
    {
     "data": {
      "text/markdown": [
       "The file `VCF/hapcaller.snv.recal.filter.vcf.gz` **results from tool** gatk2_variant_filtration-IP **which** Filter a set of files or data items according to some property."
      ],
      "text/plain": [
       "<IPython.core.display.Markdown object>"
      ]
     },
     "metadata": {},
     "output_type": "display_data"
    },
    {
     "data": {
      "text/markdown": [
       " **It was produced in the context of** Rare Coding Variants in ANGPTL6 Are Associated with Familial Forms of Intracranial Aneurysm"
      ],
      "text/plain": [
       "<IPython.core.display.Markdown object>"
      ]
     },
     "metadata": {},
     "output_type": "display_data"
    },
    {
     "data": {
      "text/markdown": [
       "The file `VCF/hapcaller.snv.recal.filter.vcf.gz` **results from tool** gatk2_variant_filtration-IP **which** Analyse a genetic variation, for example to annotate its location, alleles, classification, and effects on individual transcripts predicted for a gene model."
      ],
      "text/plain": [
       "<IPython.core.display.Markdown object>"
      ]
     },
     "metadata": {},
     "output_type": "display_data"
    },
    {
     "data": {
      "text/markdown": [
       " **It was produced in the context of** Rare Coding Variants in ANGPTL6 Are Associated with Familial Forms of Intracranial Aneurysm"
      ],
      "text/plain": [
       "<IPython.core.display.Markdown object>"
      ]
     },
     "metadata": {},
     "output_type": "display_data"
    },
    {
     "data": {
      "text/markdown": [
       "The file `VCF/hapcaller.snv.recal.filter.vcf.gz` **results from tool** gatk2_variant_filtration-IP **which** Filter a set of files or data items according to some property."
      ],
      "text/plain": [
       "<IPython.core.display.Markdown object>"
      ]
     },
     "metadata": {},
     "output_type": "display_data"
    },
    {
     "data": {
      "text/markdown": [
       " **It was produced in the context of** Rare Coding Variants in ANGPTL6 Are Associated with Familial Forms of Intracranial Aneurysm"
      ],
      "text/plain": [
       "<IPython.core.display.Markdown object>"
      ]
     },
     "metadata": {},
     "output_type": "display_data"
    },
    {
     "data": {
      "text/markdown": [
       "The file `VCF/hapcaller.recal.combined.annot.gnomad.vcf.gz` **results from tool** gatk2_variant_annotator-IP **which** Predict the effect or function of an individual single nucleotide polymorphism (SNP)."
      ],
      "text/plain": [
       "<IPython.core.display.Markdown object>"
      ]
     },
     "metadata": {},
     "output_type": "display_data"
    },
    {
     "data": {
      "text/markdown": [
       " **It was produced in the context of** Rare Coding Variants in ANGPTL6 Are Associated with Familial Forms of Intracranial Aneurysm"
      ],
      "text/plain": [
       "<IPython.core.display.Markdown object>"
      ]
     },
     "metadata": {},
     "output_type": "display_data"
    },
    {
     "data": {
      "text/markdown": [
       "The file `VCF/hapcaller.recal.combined.annot.gnomad.vcf.gz` **results from tool** gatk2_variant_annotator-IP **which** Predict the effect or function of an individual single nucleotide polymorphism (SNP)."
      ],
      "text/plain": [
       "<IPython.core.display.Markdown object>"
      ]
     },
     "metadata": {},
     "output_type": "display_data"
    },
    {
     "data": {
      "text/markdown": [
       " **It was produced in the context of** Rare Coding Variants in ANGPTL6 Are Associated with Familial Forms of Intracranial Aneurysm"
      ],
      "text/plain": [
       "<IPython.core.display.Markdown object>"
      ]
     },
     "metadata": {},
     "output_type": "display_data"
    },
    {
     "data": {
      "text/markdown": [
       "The file `VCF/hapcaller.indel.recal.select.vcf.gz` **results from tool** gatk2_variant_select-IP **which** Identify and map genomic alterations, including single nucleotide polymorphisms, short indels and structural variants, in a genome sequence."
      ],
      "text/plain": [
       "<IPython.core.display.Markdown object>"
      ]
     },
     "metadata": {},
     "output_type": "display_data"
    },
    {
     "data": {
      "text/markdown": [
       " **It was produced in the context of** Rare Coding Variants in ANGPTL6 Are Associated with Familial Forms of Intracranial Aneurysm"
      ],
      "text/plain": [
       "<IPython.core.display.Markdown object>"
      ]
     },
     "metadata": {},
     "output_type": "display_data"
    },
    {
     "data": {
      "text/markdown": [
       "The file `VCF/hapcaller.indel.recal.select.vcf.gz` **results from tool** gatk2_variant_select-IP **which** Identify and map genomic alterations, including single nucleotide polymorphisms, short indels and structural variants, in a genome sequence."
      ],
      "text/plain": [
       "<IPython.core.display.Markdown object>"
      ]
     },
     "metadata": {},
     "output_type": "display_data"
    },
    {
     "data": {
      "text/markdown": [
       " **It was produced in the context of** Rare Coding Variants in ANGPTL6 Are Associated with Familial Forms of Intracranial Aneurysm"
      ],
      "text/plain": [
       "<IPython.core.display.Markdown object>"
      ]
     },
     "metadata": {},
     "output_type": "display_data"
    },
    {
     "data": {
      "text/markdown": [
       "The file `VCF/hapcaller.genotyped.vcf.gz` **results from tool** gatk2_unified_genotyper-IP **which** Identify and map genomic alterations, including single nucleotide polymorphisms, short indels and structural variants, in a genome sequence."
      ],
      "text/plain": [
       "<IPython.core.display.Markdown object>"
      ]
     },
     "metadata": {},
     "output_type": "display_data"
    },
    {
     "data": {
      "text/markdown": [
       " **It was produced in the context of** Rare Coding Variants in ANGPTL6 Are Associated with Familial Forms of Intracranial Aneurysm"
      ],
      "text/plain": [
       "<IPython.core.display.Markdown object>"
      ]
     },
     "metadata": {},
     "output_type": "display_data"
    },
    {
     "data": {
      "text/markdown": [
       "The file `VCF/hapcaller.genotyped.vcf.gz` **results from tool** gatk2_unified_genotyper-IP **which** Identify insertion, deletion and duplication events from a sequence alignment."
      ],
      "text/plain": [
       "<IPython.core.display.Markdown object>"
      ]
     },
     "metadata": {},
     "output_type": "display_data"
    },
    {
     "data": {
      "text/markdown": [
       " **It was produced in the context of** Rare Coding Variants in ANGPTL6 Are Associated with Familial Forms of Intracranial Aneurysm"
      ],
      "text/plain": [
       "<IPython.core.display.Markdown object>"
      ]
     },
     "metadata": {},
     "output_type": "display_data"
    },
    {
     "data": {
      "text/markdown": [
       "The file `VCF/hapcaller.genotyped.vcf.gz` **results from tool** gatk2_unified_genotyper-IP **which** Identify and map genomic alterations, including single nucleotide polymorphisms, short indels and structural variants, in a genome sequence."
      ],
      "text/plain": [
       "<IPython.core.display.Markdown object>"
      ]
     },
     "metadata": {},
     "output_type": "display_data"
    },
    {
     "data": {
      "text/markdown": [
       " **It was produced in the context of** Rare Coding Variants in ANGPTL6 Are Associated with Familial Forms of Intracranial Aneurysm"
      ],
      "text/plain": [
       "<IPython.core.display.Markdown object>"
      ]
     },
     "metadata": {},
     "output_type": "display_data"
    },
    {
     "data": {
      "text/markdown": [
       "The file `VCF/hapcaller.genotyped.vcf.gz` **results from tool** gatk2_unified_genotyper-IP **which** Identify insertion, deletion and duplication events from a sequence alignment."
      ],
      "text/plain": [
       "<IPython.core.display.Markdown object>"
      ]
     },
     "metadata": {},
     "output_type": "display_data"
    },
    {
     "data": {
      "text/markdown": [
       " **It was produced in the context of** Rare Coding Variants in ANGPTL6 Are Associated with Familial Forms of Intracranial Aneurysm"
      ],
      "text/plain": [
       "<IPython.core.display.Markdown object>"
      ]
     },
     "metadata": {},
     "output_type": "display_data"
    },
    {
     "data": {
      "text/markdown": [
       "The file `VCF/hapcaller.combined.g.vcf.gz` **results from tool** gatk2_variant_combine-IP **which** Merge two or more (typically overlapping) molecular sequences."
      ],
      "text/plain": [
       "<IPython.core.display.Markdown object>"
      ]
     },
     "metadata": {},
     "output_type": "display_data"
    },
    {
     "data": {
      "text/markdown": [
       " **It was produced in the context of** Rare Coding Variants in ANGPTL6 Are Associated with Familial Forms of Intracranial Aneurysm"
      ],
      "text/plain": [
       "<IPython.core.display.Markdown object>"
      ]
     },
     "metadata": {},
     "output_type": "display_data"
    },
    {
     "data": {
      "text/markdown": [
       "The file `VCF/hapcaller.combined.g.vcf.gz` **results from tool** gatk2_variant_combine-IP **which** Merge two or more (typically overlapping) molecular sequences."
      ],
      "text/plain": [
       "<IPython.core.display.Markdown object>"
      ]
     },
     "metadata": {},
     "output_type": "display_data"
    },
    {
     "data": {
      "text/markdown": [
       " **It was produced in the context of** Rare Coding Variants in ANGPTL6 Are Associated with Familial Forms of Intracranial Aneurysm"
      ],
      "text/plain": [
       "<IPython.core.display.Markdown object>"
      ]
     },
     "metadata": {},
     "output_type": "display_data"
    },
    {
     "data": {
      "text/markdown": [
       "The file `VCF/hapcaller.snv.recal.filter.vcf.gz.tbi` **results from tool** gatk2_variant_filtration-IP **which** Analyse a genetic variation, for example to annotate its location, alleles, classification, and effects on individual transcripts predicted for a gene model."
      ],
      "text/plain": [
       "<IPython.core.display.Markdown object>"
      ]
     },
     "metadata": {},
     "output_type": "display_data"
    },
    {
     "data": {
      "text/markdown": [
       " **It was produced in the context of** Rare Coding Variants in ANGPTL6 Are Associated with Familial Forms of Intracranial Aneurysm"
      ],
      "text/plain": [
       "<IPython.core.display.Markdown object>"
      ]
     },
     "metadata": {},
     "output_type": "display_data"
    },
    {
     "data": {
      "text/markdown": [
       "The file `VCF/hapcaller.snv.recal.filter.vcf.gz.tbi` **results from tool** gatk2_variant_filtration-IP **which** Filter a set of files or data items according to some property."
      ],
      "text/plain": [
       "<IPython.core.display.Markdown object>"
      ]
     },
     "metadata": {},
     "output_type": "display_data"
    },
    {
     "data": {
      "text/markdown": [
       " **It was produced in the context of** Rare Coding Variants in ANGPTL6 Are Associated with Familial Forms of Intracranial Aneurysm"
      ],
      "text/plain": [
       "<IPython.core.display.Markdown object>"
      ]
     },
     "metadata": {},
     "output_type": "display_data"
    },
    {
     "data": {
      "text/markdown": [
       "The file `VCF/hapcaller.snv.recal.filter.vcf.gz.tbi` **results from tool** gatk2_variant_filtration-IP **which** Analyse a genetic variation, for example to annotate its location, alleles, classification, and effects on individual transcripts predicted for a gene model."
      ],
      "text/plain": [
       "<IPython.core.display.Markdown object>"
      ]
     },
     "metadata": {},
     "output_type": "display_data"
    },
    {
     "data": {
      "text/markdown": [
       " **It was produced in the context of** Rare Coding Variants in ANGPTL6 Are Associated with Familial Forms of Intracranial Aneurysm"
      ],
      "text/plain": [
       "<IPython.core.display.Markdown object>"
      ]
     },
     "metadata": {},
     "output_type": "display_data"
    },
    {
     "data": {
      "text/markdown": [
       "The file `VCF/hapcaller.snv.recal.filter.vcf.gz.tbi` **results from tool** gatk2_variant_filtration-IP **which** Filter a set of files or data items according to some property."
      ],
      "text/plain": [
       "<IPython.core.display.Markdown object>"
      ]
     },
     "metadata": {},
     "output_type": "display_data"
    },
    {
     "data": {
      "text/markdown": [
       " **It was produced in the context of** Rare Coding Variants in ANGPTL6 Are Associated with Familial Forms of Intracranial Aneurysm"
      ],
      "text/plain": [
       "<IPython.core.display.Markdown object>"
      ]
     },
     "metadata": {},
     "output_type": "display_data"
    },
    {
     "data": {
      "text/markdown": [
       "The file `VCF/hapcaller.indel.recal.select.vcf.gz.tbi` **results from tool** gatk2_variant_select-IP **which** Identify and map genomic alterations, including single nucleotide polymorphisms, short indels and structural variants, in a genome sequence."
      ],
      "text/plain": [
       "<IPython.core.display.Markdown object>"
      ]
     },
     "metadata": {},
     "output_type": "display_data"
    },
    {
     "data": {
      "text/markdown": [
       " **It was produced in the context of** Rare Coding Variants in ANGPTL6 Are Associated with Familial Forms of Intracranial Aneurysm"
      ],
      "text/plain": [
       "<IPython.core.display.Markdown object>"
      ]
     },
     "metadata": {},
     "output_type": "display_data"
    },
    {
     "data": {
      "text/markdown": [
       "The file `VCF/hapcaller.indel.recal.select.vcf.gz.tbi` **results from tool** gatk2_variant_select-IP **which** Identify and map genomic alterations, including single nucleotide polymorphisms, short indels and structural variants, in a genome sequence."
      ],
      "text/plain": [
       "<IPython.core.display.Markdown object>"
      ]
     },
     "metadata": {},
     "output_type": "display_data"
    },
    {
     "data": {
      "text/markdown": [
       " **It was produced in the context of** Rare Coding Variants in ANGPTL6 Are Associated with Familial Forms of Intracranial Aneurysm"
      ],
      "text/plain": [
       "<IPython.core.display.Markdown object>"
      ]
     },
     "metadata": {},
     "output_type": "display_data"
    },
    {
     "data": {
      "text/markdown": [
       "The file `Samples/Sample1/BAM/Sample1.markdup.bai` **results from tool** MarkDuplicates (IP) **which** Predict, recognise and identify positional features in molecular sequences such as key functional sites or regions."
      ],
      "text/plain": [
       "<IPython.core.display.Markdown object>"
      ]
     },
     "metadata": {},
     "output_type": "display_data"
    },
    {
     "data": {
      "text/markdown": [
       " **It was produced in the context of** Rare Coding Variants in ANGPTL6 Are Associated with Familial Forms of Intracranial Aneurysm"
      ],
      "text/plain": [
       "<IPython.core.display.Markdown object>"
      ]
     },
     "metadata": {},
     "output_type": "display_data"
    },
    {
     "data": {
      "text/markdown": [
       "The file `Samples/Sample1/BAM/Sample1.markdup.bai` **results from tool** MarkDuplicates (IP) **which** Predict, recognise and identify positional features in molecular sequences such as key functional sites or regions."
      ],
      "text/plain": [
       "<IPython.core.display.Markdown object>"
      ]
     },
     "metadata": {},
     "output_type": "display_data"
    },
    {
     "data": {
      "text/markdown": [
       " **It was produced in the context of** Rare Coding Variants in ANGPTL6 Are Associated with Familial Forms of Intracranial Aneurysm"
      ],
      "text/plain": [
       "<IPython.core.display.Markdown object>"
      ]
     },
     "metadata": {},
     "output_type": "display_data"
    },
    {
     "name": "stdout",
     "output_type": "stream",
     "text": [
      "CPU times: user 487 ms, sys: 77.5 ms, total: 564 ms\n",
      "Wall time: 541 ms\n"
     ]
    }
   ],
   "source": [
    "%%time\n",
    "query = \"\"\"\n",
    "    SELECT ?d_label ?title ?f_def ?st WHERE {\n",
    "        ?d rdf:type prov:Entity ;\n",
    "           prov:wasGeneratedBy ?x ;\n",
    "           prov:wasAssociatedWith ?tool ;\n",
    "           rdfs:label ?d_label .\n",
    "        \n",
    "        ?tool dc:title ?title ;\n",
    "            biotools:has_function ?f .\n",
    "            \n",
    "        ?f rdfs:label ?f_label ;\n",
    "            oboInOwl:hasDefinition ?f_def .\n",
    "            \n",
    "        ?c rdf:type mp:Claim ;    \n",
    "            mp:statement ?st .\n",
    "    }\n",
    "\"\"\"\n",
    "\n",
    "results = g.query(query)\n",
    "for r in results :\n",
    "    display(Markdown('The file `' + str(r['d_label']) + '`'\n",
    "                     +' **results from tool** ' + str(r['title']) \n",
    "                     + ' **which** ' + str(r['f_def'])))\n",
    "    display(Markdown(' **It was produced in the context of** ' + str(r['st']) ))\n"
   ]
  },
  {
   "cell_type": "markdown",
   "metadata": {},
   "source": [
    "## Summary graph of  the main processing steps\n",
    "### Here, the goal is to display a graph of domain-specific terms, describing the workflow processing steps. "
   ]
  },
  {
   "cell_type": "code",
   "execution_count": 11,
   "metadata": {},
   "outputs": [
    {
     "data": {
      "image/png": "[encoded data removed]",
      "text/plain": [
       "<IPython.core.display.Image object>"
      ]
     },
     "execution_count": 11,
     "metadata": {},
     "output_type": "execute_result"
    }
   ],
   "source": [
    "edges = []\n",
    "\n",
    "query = \"\"\"\n",
    "    CONSTRUCT {\n",
    "        ?x2 p-plan:wasPreceededBy ?x1 .\n",
    "        ?x2 prov:wasAssociatedWith ?t2 .\n",
    "        ?x1 prov:wasAssociatedWith ?t1 .\n",
    "        ?t1 biotools:has_function ?f1 .\n",
    "        ?f1 rdfs:label ?f1_label .\n",
    "        ?t2 biotools:has_function ?f2 .\n",
    "        ?f2 rdfs:label ?f2_label .\n",
    "    } WHERE {\n",
    "        ?d2 prov:wasDerivedFrom ?d1 .\n",
    "        \n",
    "        ?d2 prov:wasGeneratedBy ?x2 ;\n",
    "           prov:wasAssociatedWith ?t2 ;\n",
    "           rdfs:label ?d2_label .\n",
    "        \n",
    "        ?d1 prov:wasGeneratedBy ?x1 ;\n",
    "           prov:wasAssociatedWith ?t1 ;\n",
    "           rdfs:label ?d1_label .\n",
    "        \n",
    "        ?t1 biotools:has_function ?f1 .\n",
    "        ?f1 rdfs:label ?f1_label .\n",
    "        \n",
    "        ?t2 biotools:has_function ?f2 .\n",
    "        ?f2 rdfs:label ?f2_label .\n",
    "    }\n",
    "\"\"\"\n",
    "\n",
    "abstract_wf = Graph()\n",
    "abstract_wf.bind('prov',Namespace('http://www.w3.org/ns/prov#'))\n",
    "abstract_wf.bind('p-plan',Namespace('http://purl.org/net/p-plan#'))\n",
    "abstract_wf.bind('biotools',Namespace('https://bio.tools/ontology/'))\n",
    "\n",
    "results = g.query(query)\n",
    "for r in results :\n",
    "    abstract_wf.add(r)\n",
    "\n",
    "abstract_wf.serialize(destination='abstract_wf.ttl', format='turtle')\n",
    "\n",
    "vis_query = \"\"\"\n",
    "    SELECT ?f1_label ?f2_label WHERE {\n",
    "        ?x2 p-plan:wasPreceededBy ?x1 .\n",
    "        ?x2 prov:wasAssociatedWith ?t2 .\n",
    "        ?x1 prov:wasAssociatedWith ?t1 .\n",
    "        ?t1 biotools:has_function ?f1 .\n",
    "        ?f1 rdfs:label ?f1_label .\n",
    "        ?t2 biotools:has_function ?f2 .\n",
    "        ?f2 rdfs:label ?f2_label .\n",
    "    }\n",
    "\"\"\"\n",
    "\n",
    "results = abstract_wf.query(vis_query)\n",
    "for r in results :\n",
    "    edges.append((r['f1_label'], r['f2_label']))\n",
    "\n",
    "G = nx.DiGraph()\n",
    "G.graph['dpi'] = 120\n",
    "G.graph['layout'] = 'dot'\n",
    "G.add_edges_from(edges)\n",
    "draw(G, show='ipynb')"
   ]
  },
  {
   "cell_type": "markdown",
   "metadata": {},
   "source": [
    "### Finally we show in this last cell how we can document intermediate data with the conceptual processing they result from, again with domain-specific terms. "
   ]
  },
  {
   "cell_type": "code",
   "execution_count": 20,
   "metadata": {},
   "outputs": [
    {
     "name": "stdout",
     "output_type": "stream",
     "text": [
      "CPU times: user 373 ms, sys: 5 ms, total: 378 ms\n",
      "Wall time: 378 ms\n"
     ]
    }
   ],
   "source": [
    "%%time\n",
    "pattern_intermediate = \"Sample1.final.bam\"\n",
    "pattern_final = \"hapcaller.recal.combined.annot.gnomad.vcf.gz\"\n",
    "\n",
    "query = \"\"\"\n",
    "    CONSTRUCT {\n",
    "        ?x2 p-plan:wasPreceededBy ?x1 .\n",
    "        ?x2 prov:wasAssociatedWith ?t2 .\n",
    "        ?x1 prov:wasAssociatedWith ?t1 .\n",
    "        ?t1 biotools:has_function ?f1 .\n",
    "        ?f1 rdfs:label ?f1_label .\n",
    "        ?t2 biotools:has_function ?f2 .\n",
    "        ?f2 rdfs:label ?f2_label .\n",
    "        \n",
    "        ?d rdf:type prov:Entity ;\n",
    "               prov:wasGeneratedBy ?x ;\n",
    "               prov:wasAssociatedWith ?tool ;\n",
    "               rdfs:label ?d_label .\n",
    "    } WHERE {\n",
    "        {\n",
    "            ?d2 prov:wasDerivedFrom ?d1 .\n",
    "        \n",
    "            ?d2 prov:wasGeneratedBy ?x2 ;\n",
    "               prov:wasAssociatedWith ?t2 ;\n",
    "               rdfs:label ?d2_label .\n",
    "        \n",
    "            ?d1 prov:wasGeneratedBy ?x1 ;\n",
    "               prov:wasAssociatedWith ?t1 ;\n",
    "               rdfs:label ?d1_label .\n",
    "        \n",
    "            ?t1 biotools:has_function ?f1 .\n",
    "            ?f1 rdfs:label ?f1_label .\n",
    "        \n",
    "            ?t2 biotools:has_function ?f2 .\n",
    "            ?f2 rdfs:label ?f2_label .\n",
    "        } UNION {\n",
    "            ?d rdf:type prov:Entity ;\n",
    "               prov:wasGeneratedBy ?x ;\n",
    "               prov:wasAssociatedWith ?tool ;\n",
    "               rdfs:label ?d_label .\n",
    "            FILTER (regex(?d_label, \\\"\"\"\" + pattern_intermediate + \"\"\"\\\", \"i\")) .\n",
    "        }\n",
    "    }\n",
    "\"\"\"\n",
    "\n",
    "abstract_wf = Graph()\n",
    "abstract_wf.bind('prov',Namespace('http://www.w3.org/ns/prov#'))\n",
    "abstract_wf.bind('p-plan',Namespace('http://purl.org/net/p-plan#'))\n",
    "abstract_wf.bind('biotools',Namespace('https://bio.tools/ontology/'))\n",
    "\n",
    "results = g.query(query)\n",
    "for r in results :\n",
    "    abstract_wf.add(r)\n",
    "\n",
    "abstract_wf.serialize(destination='abstract_wf.ttl', format='turtle')\n",
    "\n",
    "vis_query1 = \"\"\"\n",
    "    SELECT ?f1_label ?f2_label WHERE {\n",
    "        ?x2 p-plan:wasPreceededBy ?x1 .\n",
    "        ?x2 prov:wasAssociatedWith ?t2 .\n",
    "        ?x1 prov:wasAssociatedWith ?t1 .\n",
    "        ?t1 biotools:has_function ?f1 .\n",
    "        ?f1 rdfs:label ?f1_label .\n",
    "        ?t2 biotools:has_function ?f2 .\n",
    "        ?f2 rdfs:label ?f2_label .\n",
    "    }\n",
    "\"\"\"\n",
    "\n",
    "edges = []\n",
    "results = abstract_wf.query(vis_query1)\n",
    "for r in results :\n",
    "    edges.append((r['f1_label'], r['f2_label']))\n",
    "\n",
    "vis_query2 = \"\"\"\n",
    "    SELECT ?d_label ?tool ?f_label WHERE {\n",
    "        ?d rdf:type prov:Entity ;\n",
    "            prov:wasGeneratedBy ?x ;\n",
    "            prov:wasAssociatedWith ?tool ;\n",
    "            rdfs:label ?d_label .\n",
    "        ?tool biotools:has_function ?f .\n",
    "        ?f rdfs:label ?f_label .\n",
    "    }\n",
    "\"\"\"\n",
    "\n",
    "edges_data = []\n",
    "nodes_data = []\n",
    "results = abstract_wf.query(vis_query2)\n",
    "for r in results :\n",
    "    edges_data.append((r['f_label'], r['d_label']))\n",
    "    nodes_data.append(r['d_label'])\n",
    "\n",
    "G = nx.DiGraph()\n",
    "G.graph['dpi'] = 120\n",
    "G.graph['layout'] = 'dot'\n",
    "G.add_nodes_from(nodes_data, color='blue', shape=\"note\")\n",
    "G.add_edges_from(edges)\n",
    "G.add_edges_from(edges_data, color='blue', style=\"dashed\")"
   ]
  },
  {
   "cell_type": "code",
   "execution_count": 21,
   "metadata": {},
   "outputs": [
    {
     "name": "stdout",
     "output_type": "stream",
     "text": [
      "CPU times: user 24.4 ms, sys: 9.29 ms, total: 33.7 ms\n",
      "Wall time: 944 ms\n"
     ]
    },
    {
     "data": {
      "image/png": "[encoded data removed]",
      "text/plain": [
       "<IPython.core.display.Image object>"
      ]
     },
     "execution_count": 21,
     "metadata": {},
     "output_type": "execute_result"
    }
   ],
   "source": [
    "#%time draw(G, filename='plot.pdf', format='pdf')\n",
    "%time draw(G, show='ipynb')"
   ]
  }
 ],
 "metadata": {
  "kernelspec": {
   "display_name": "Python 3",
   "language": "python",
   "name": "python3"
  },
  "language_info": {
   "codemirror_mode": {
    "name": "ipython",
    "version": 3
   },
   "file_extension": ".py",
   "mimetype": "text/x-python",
   "name": "python",
   "nbconvert_exporter": "python",
   "pygments_lexer": "ipython3",
   "version": "3.6.6"
  }
 },
 "nbformat": 4,
 "nbformat_minor": 2
}
